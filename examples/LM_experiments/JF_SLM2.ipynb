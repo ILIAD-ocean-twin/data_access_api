{
 "cells": [
  {
   "cell_type": "code",
   "execution_count": 1,
   "id": "d068dfa1",
   "metadata": {},
   "outputs": [
    {
     "ename": "FileNotFoundError",
     "evalue": "[Errno 2] No such file or directory: 'Jellyfish_trends.txt'",
     "output_type": "error",
     "traceback": [
      "\u001b[0;31m---------------------------------------------------------------------------\u001b[0m",
      "\u001b[0;31mFileNotFoundError\u001b[0m                         Traceback (most recent call last)",
      "Cell \u001b[0;32mIn[1], line 9\u001b[0m\n\u001b[1;32m      6\u001b[0m output_file \u001b[38;5;241m=\u001b[39m \u001b[38;5;124m\"\u001b[39m\u001b[38;5;124mjellyfish_observations.csv\u001b[39m\u001b[38;5;124m\"\u001b[39m\n\u001b[1;32m      8\u001b[0m \u001b[38;5;66;03m# Read the RDF-like data\u001b[39;00m\n\u001b[0;32m----> 9\u001b[0m \u001b[38;5;28;01mwith\u001b[39;00m \u001b[38;5;28;43mopen\u001b[39;49m\u001b[43m(\u001b[49m\u001b[43minput_file\u001b[49m\u001b[43m,\u001b[49m\u001b[43m \u001b[49m\u001b[38;5;124;43m\"\u001b[39;49m\u001b[38;5;124;43mr\u001b[39;49m\u001b[38;5;124;43m\"\u001b[39;49m\u001b[43m,\u001b[49m\u001b[43m \u001b[49m\u001b[43mencoding\u001b[49m\u001b[38;5;241;43m=\u001b[39;49m\u001b[38;5;124;43m\"\u001b[39;49m\u001b[38;5;124;43mutf-8\u001b[39;49m\u001b[38;5;124;43m\"\u001b[39;49m\u001b[43m)\u001b[49m \u001b[38;5;28;01mas\u001b[39;00m file:\n\u001b[1;32m     10\u001b[0m     data \u001b[38;5;241m=\u001b[39m file\u001b[38;5;241m.\u001b[39mread()\n\u001b[1;32m     12\u001b[0m \u001b[38;5;66;03m# Split into individual observations\u001b[39;00m\n",
      "File \u001b[0;32m~/repos/Iliad/data_access_api/.venv/lib/python3.11/site-packages/IPython/core/interactiveshell.py:324\u001b[0m, in \u001b[0;36m_modified_open\u001b[0;34m(file, *args, **kwargs)\u001b[0m\n\u001b[1;32m    317\u001b[0m \u001b[38;5;28;01mif\u001b[39;00m file \u001b[38;5;129;01min\u001b[39;00m {\u001b[38;5;241m0\u001b[39m, \u001b[38;5;241m1\u001b[39m, \u001b[38;5;241m2\u001b[39m}:\n\u001b[1;32m    318\u001b[0m     \u001b[38;5;28;01mraise\u001b[39;00m \u001b[38;5;167;01mValueError\u001b[39;00m(\n\u001b[1;32m    319\u001b[0m         \u001b[38;5;124mf\u001b[39m\u001b[38;5;124m\"\u001b[39m\u001b[38;5;124mIPython won\u001b[39m\u001b[38;5;124m'\u001b[39m\u001b[38;5;124mt let you open fd=\u001b[39m\u001b[38;5;132;01m{\u001b[39;00mfile\u001b[38;5;132;01m}\u001b[39;00m\u001b[38;5;124m by default \u001b[39m\u001b[38;5;124m\"\u001b[39m\n\u001b[1;32m    320\u001b[0m         \u001b[38;5;124m\"\u001b[39m\u001b[38;5;124mas it is likely to crash IPython. If you know what you are doing, \u001b[39m\u001b[38;5;124m\"\u001b[39m\n\u001b[1;32m    321\u001b[0m         \u001b[38;5;124m\"\u001b[39m\u001b[38;5;124myou can use builtins\u001b[39m\u001b[38;5;124m'\u001b[39m\u001b[38;5;124m open.\u001b[39m\u001b[38;5;124m\"\u001b[39m\n\u001b[1;32m    322\u001b[0m     )\n\u001b[0;32m--> 324\u001b[0m \u001b[38;5;28;01mreturn\u001b[39;00m \u001b[43mio_open\u001b[49m\u001b[43m(\u001b[49m\u001b[43mfile\u001b[49m\u001b[43m,\u001b[49m\u001b[43m \u001b[49m\u001b[38;5;241;43m*\u001b[39;49m\u001b[43margs\u001b[49m\u001b[43m,\u001b[49m\u001b[43m \u001b[49m\u001b[38;5;241;43m*\u001b[39;49m\u001b[38;5;241;43m*\u001b[39;49m\u001b[43mkwargs\u001b[49m\u001b[43m)\u001b[49m\n",
      "\u001b[0;31mFileNotFoundError\u001b[0m: [Errno 2] No such file or directory: 'Jellyfish_trends.txt'"
     ]
    }
   ],
   "source": [
    "import re\n",
    "import csv\n",
    "\n",
    "# Input and output file paths\n",
    "input_file = \"Jellyfish_trends.txt\"\n",
    "output_file = \"jellyfish_observations.csv\"\n",
    "\n",
    "# Read the RDF-like data\n",
    "with open(input_file, \"r\", encoding=\"utf-8\") as file:\n",
    "    data = file.read()\n",
    "\n",
    "# Split into individual observations\n",
    "observations = data.split(\"<file:///\")[1:]\n",
    "\n",
    "# Prepare CSV output\n",
    "header = [\"date\", \"time\", \"latitude\", \"longitude\", \"species\", \"strandedJellyfish\", \"sampleSizeValue\"]\n",
    "rows = []\n",
    "\n",
    "for obs in observations:\n",
    "    lines = obs.split(\";\\n\")\n",
    "    uri_line = lines[0].strip()\n",
    "    uri = uri_line.split(\">\")[0]\n",
    "    species_match = re.search(r'(\\w+)$', uri)\n",
    "    species = species_match.group(1) if species_match else \"Unknown\"\n",
    "\n",
    "    date = time = latitude = longitude = stranded = sample_size = \"Unknown\"\n",
    "\n",
    "    for line in lines:\n",
    "        if \"dct:date\" in line:\n",
    "            date = re.search(r'\"(.*?)\"', line).group(1)\n",
    "        elif \"dct:time\" in line:\n",
    "            time = re.search(r'\"(.*?)\"', line).group(1)\n",
    "        elif \"geojson:coordinates\" in line:\n",
    "            coords = re.findall(r\"([\\d\\.e\\+\\-]+)\", line)\n",
    "            if len(coords) == 2:\n",
    "                longitude, latitude = coords\n",
    "        elif \"ns1:strandedJellyfish\" in line:\n",
    "            stranded = re.search(r'(\\d+)', line).group(1)\n",
    "        elif \"iliad:sampleSizeValue\" in line:\n",
    "            sample_size = re.search(r'\"?(.*?)\"?\\s*\\.', line).group(1)\n",
    "\n",
    "    rows.append([date, time, latitude, longitude, species, stranded, sample_size])\n",
    "\n",
    "# Write to CSV\n",
    "with open(output_file, \"w\", newline=\"\", encoding=\"utf-8\") as f:\n",
    "    writer = csv.writer(f)\n",
    "    writer.writerow(header)\n",
    "    writer.writerows(rows)\n",
    "\n",
    "print(f\"Extracted {len(rows)} observations to {output_file}\")\n"
   ]
  }
 ],
 "metadata": {
  "kernelspec": {
   "display_name": ".venv",
   "language": "python",
   "name": "python3"
  },
  "language_info": {
   "codemirror_mode": {
    "name": "ipython",
    "version": 3
   },
   "file_extension": ".py",
   "mimetype": "text/x-python",
   "name": "python",
   "nbconvert_exporter": "python",
   "pygments_lexer": "ipython3",
   "version": "3.11.5"
  }
 },
 "nbformat": 4,
 "nbformat_minor": 5
}
