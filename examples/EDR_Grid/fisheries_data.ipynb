{
 "cells": [
  {
   "cell_type": "code",
   "execution_count": null,
   "id": "4931d0ba",
   "metadata": {},
   "outputs": [],
   "source": [
    "import xarray as xr\n",
    "din = xr.load_dataset(\"../data/NSea\")\n",
    "din"
   ]
  }
 ],
 "metadata": {
  "language_info": {
   "name": "python"
  }
 },
 "nbformat": 4,
 "nbformat_minor": 5
}
