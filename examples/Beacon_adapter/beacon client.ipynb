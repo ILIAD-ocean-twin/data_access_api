{
 "cells": [
  {
   "cell_type": "code",
   "execution_count": null,
   "id": "a69765ce",
   "metadata": {},
   "outputs": [],
   "source": [
    "import requests\n",
    "\n",
    "# Example OGC API endpoint (replace with actual SeaDataNet beacon endpoint)\n",
    "OGC_API_URL = \"https://api.seadatanet.org/ogc/beacon\"\n",
    "\n",
    "# Get the list of available collections (datasets)\n",
    "response = requests.get(f\"{OGC_API_URL}/collections\")\n",
    "collections = response.json()\n",
    "\n",
    "print(\"Available Collections:\")\n",
    "for collection in collections.get(\"collections\", []):\n",
    "    print(f\"- {collection['id']}: {collection['title']}\")\n",
    "\n",
    "# Fetch features from a specific collection\n",
    "collection_id = \"beacon-data\"  # Replace with actual collection ID\n",
    "features_url = f\"{OGC_API_URL}/collections/{collection_id}/items\"\n",
    "features_response = requests.get(features_url)\n",
    "features = features_response.json()\n",
    "\n",
    "print(\"\\nSample Features:\")\n",
    "for feature in features.get(\"features\", [])[:5]:  # Show first 5 features\n",
    "    print(feature)\n"
   ]
  }
 ],
 "metadata": {
  "language_info": {
   "name": "python"
  }
 },
 "nbformat": 4,
 "nbformat_minor": 5
}
