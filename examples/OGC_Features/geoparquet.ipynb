{
 "cells": [
  {
   "cell_type": "code",
   "execution_count": 50,
   "id": "8da9e1c0",
   "metadata": {},
   "outputs": [
    {
     "name": "stdout",
     "output_type": "stream",
     "text": [
      "Requirement already satisfied: boto3 in /Users/piotr/repos/Iliad/data_access_api/.venv/lib/python3.11/site-packages (1.39.3)\n",
      "Requirement already satisfied: s3fs in /Users/piotr/repos/Iliad/data_access_api/.venv/lib/python3.11/site-packages (0.4.2)\n",
      "Collecting geopandas\n",
      "  Downloading geopandas-1.1.1-py3-none-any.whl.metadata (2.3 kB)\n",
      "Requirement already satisfied: botocore<1.40.0,>=1.39.3 in /Users/piotr/repos/Iliad/data_access_api/.venv/lib/python3.11/site-packages (from boto3) (1.39.3)\n",
      "Requirement already satisfied: jmespath<2.0.0,>=0.7.1 in /Users/piotr/repos/Iliad/data_access_api/.venv/lib/python3.11/site-packages (from boto3) (1.0.1)\n",
      "Requirement already satisfied: s3transfer<0.14.0,>=0.13.0 in /Users/piotr/repos/Iliad/data_access_api/.venv/lib/python3.11/site-packages (from boto3) (0.13.0)\n",
      "Requirement already satisfied: fsspec>=0.6.0 in /Users/piotr/repos/Iliad/data_access_api/.venv/lib/python3.11/site-packages (from s3fs) (2025.5.1)\n",
      "Requirement already satisfied: numpy>=1.24 in /Users/piotr/repos/Iliad/data_access_api/.venv/lib/python3.11/site-packages (from geopandas) (2.1.1)\n",
      "Collecting pyogrio>=0.7.2 (from geopandas)\n",
      "  Downloading pyogrio-0.11.0-cp311-cp311-macosx_12_0_arm64.whl.metadata (5.3 kB)\n",
      "Requirement already satisfied: packaging in /Users/piotr/repos/Iliad/data_access_api/.venv/lib/python3.11/site-packages (from geopandas) (24.1)\n",
      "Requirement already satisfied: pandas>=2.0.0 in /Users/piotr/repos/Iliad/data_access_api/.venv/lib/python3.11/site-packages (from geopandas) (2.2.3)\n",
      "Collecting pyproj>=3.5.0 (from geopandas)\n",
      "  Downloading pyproj-3.7.1-cp311-cp311-macosx_14_0_arm64.whl.metadata (31 kB)\n",
      "Requirement already satisfied: shapely>=2.0.0 in /Users/piotr/repos/Iliad/data_access_api/.venv/lib/python3.11/site-packages (from geopandas) (2.1.1)\n",
      "Requirement already satisfied: python-dateutil<3.0.0,>=2.1 in /Users/piotr/repos/Iliad/data_access_api/.venv/lib/python3.11/site-packages (from botocore<1.40.0,>=1.39.3->boto3) (2.9.0.post0)\n",
      "Requirement already satisfied: urllib3!=2.2.0,<3,>=1.25.4 in /Users/piotr/repos/Iliad/data_access_api/.venv/lib/python3.11/site-packages (from botocore<1.40.0,>=1.39.3->boto3) (2.2.2)\n",
      "Requirement already satisfied: pytz>=2020.1 in /Users/piotr/repos/Iliad/data_access_api/.venv/lib/python3.11/site-packages (from pandas>=2.0.0->geopandas) (2024.1)\n",
      "Requirement already satisfied: tzdata>=2022.7 in /Users/piotr/repos/Iliad/data_access_api/.venv/lib/python3.11/site-packages (from pandas>=2.0.0->geopandas) (2024.2)\n",
      "Requirement already satisfied: certifi in /Users/piotr/repos/Iliad/data_access_api/.venv/lib/python3.11/site-packages (from pyogrio>=0.7.2->geopandas) (2024.8.30)\n",
      "Requirement already satisfied: six>=1.5 in /Users/piotr/repos/Iliad/data_access_api/.venv/lib/python3.11/site-packages (from python-dateutil<3.0.0,>=2.1->botocore<1.40.0,>=1.39.3->boto3) (1.16.0)\n",
      "Downloading geopandas-1.1.1-py3-none-any.whl (338 kB)\n",
      "Downloading pyogrio-0.11.0-cp311-cp311-macosx_12_0_arm64.whl (19.5 MB)\n",
      "\u001b[2K   \u001b[90m━━━━━━━━━━━━━━━━━━━━━━━━━━━━━━━━━━━━━━━━\u001b[0m \u001b[32m19.5/19.5 MB\u001b[0m \u001b[31m11.5 MB/s\u001b[0m eta \u001b[36m0:00:00\u001b[0m00:01\u001b[0m00:01\u001b[0m\n",
      "\u001b[?25hDownloading pyproj-3.7.1-cp311-cp311-macosx_14_0_arm64.whl (4.7 MB)\n",
      "\u001b[2K   \u001b[90m━━━━━━━━━━━━━━━━━━━━━━━━━━━━━━━━━━━━━━━━\u001b[0m \u001b[32m4.7/4.7 MB\u001b[0m \u001b[31m11.3 MB/s\u001b[0m eta \u001b[36m0:00:00\u001b[0ma \u001b[36m0:00:01\u001b[0m\n",
      "\u001b[?25hInstalling collected packages: pyproj, pyogrio, geopandas\n",
      "Successfully installed geopandas-1.1.1 pyogrio-0.11.0 pyproj-3.7.1\n",
      "\n",
      "\u001b[1m[\u001b[0m\u001b[34;49mnotice\u001b[0m\u001b[1;39;49m]\u001b[0m\u001b[39;49m A new release of pip is available: \u001b[0m\u001b[31;49m24.3.1\u001b[0m\u001b[39;49m -> \u001b[0m\u001b[32;49m25.1.1\u001b[0m\n",
      "\u001b[1m[\u001b[0m\u001b[34;49mnotice\u001b[0m\u001b[1;39;49m]\u001b[0m\u001b[39;49m To update, run: \u001b[0m\u001b[32;49mpip install --upgrade pip\u001b[0m\n"
     ]
    }
   ],
   "source": [
    "\n",
    "\n",
    "!pip install boto3 s3fs geopandas"
   ]
  },
  {
   "cell_type": "code",
   "execution_count": 46,
   "id": "314cf4bc",
   "metadata": {
    "vscode": {
     "languageId": "javascript"
    }
   },
   "outputs": [],
   "source": [
    "\n",
    "os.environ['AWS_S3_ENDPOINT'] = \"minio.dive.edito.eu\"\n",
    "os.environ['AWS_ACCESS_KEY_ID'] = \"3S2DZJT5G18N4HMWP3HQ\"\n",
    "os.environ['AWS_SECRET_ACCESS_KEY'] = \"6xqYrn+o+RYE+6qLSG6wIzNG7ulzaOMxnZmP9bU+\"\n",
    "os.environ['AWS_SESSION_TOKEN'] = \"eyJhbGciOiJIUzUxMiIsInR5cCI6IkpXVCJ9.eyJhY2Nlc3NLZXkiOiIzUzJEWkpUNUcxOE40SE1XUDNIUSIsImFjciI6IjAiLCJhbGxvd2VkLW9yaWdpbnMiOlsiKiJdLCJhdWQiOlsibWluaW8iLCJhY2NvdW50Il0sImF1dGhfdGltZSI6MTc1MTg3ODU0MywiYXpwIjoib255eGlhLW1pbmlvIiwiZW1haWwiOiJwemFib3Jvd3NraUBvZ2Mub3JnIiwiZW1haWxfdmVyaWZpZWQiOnRydWUsImV4cCI6MTc1MjA2MTEyNSwiZmFtaWx5X25hbWUiOiJaYWJvcm93c2tpIiwiZ2l2ZW5fbmFtZSI6IlBpb3RyIiwiZ3JvdXBzIjpbIkVESVRPX1VTRVIiXSwiaWF0IjoxNzUxOTc0NzI1LCJpc3MiOiJodHRwczovL2F1dGguZGl2ZS5lZGl0by5ldS9hdXRoL3JlYWxtcy9kYXRhbGFiIiwianRpIjoiOTU5MDc2YzItNmIyZS00NDM3LTgwN2QtZDg0YTlhMjdkNDFhIiwibmFtZSI6IlBpb3RyIFphYm9yb3dza2kiLCJwb2xpY3kiOiJzdHNvbmx5IiwicHJlZmVycmVkX3VzZXJuYW1lIjoicHphYm9yb3dza2kiLCJyZWFsbV9hY2Nlc3MiOnsicm9sZXMiOlsiZGVmYXVsdC1yb2xlcy1kYXRhbGFiIiwib2ZmbGluZV9hY2Nlc3MiLCJ1bWFfYXV0aG9yaXphdGlvbiJdfSwicmVzb3VyY2VfYWNjZXNzIjp7ImFjY291bnQiOnsicm9sZXMiOlsibWFuYWdlLWFjY291bnQiLCJtYW5hZ2UtYWNjb3VudC1saW5rcyIsInZpZXctcHJvZmlsZSJdfSwibWluaW8iOnsicm9sZXMiOlsic3Rzb25seSJdfX0sInNjb3BlIjoib3BlbmlkIGVtYWlsIHByb2ZpbGUiLCJzZXNzaW9uX3N0YXRlIjoiMzkxZmU4YTYtYjUxOS00NGM4LTk1N2UtMGYzOTdjMGMzYWMzIiwic2lkIjoiMzkxZmU4YTYtYjUxOS00NGM4LTk1N2UtMGYzOTdjMGMzYWMzIiwic3ViIjoiNjNmMTcxYjktNTJiYS00NWZlLTkwYjMtN2QxNzZiNzdmOTA0IiwidHlwIjoiQmVhcmVyIn0.zJE10v-O8sdtnPbejfi-5ffqYMcytq6GyzIU8r4rXFBrviXWBauh_kaw8j7xjCOCjDArkwCVGHAtWuzxXTk6cw\"\n",
    "os.environ['AWS_DEFAULT_REGION'] = \"waw3-1\""
   ]
  },
  {
   "cell_type": "code",
   "execution_count": 47,
   "id": "69021a66",
   "metadata": {},
   "outputs": [],
   "source": [
    "import os\n",
    "bucket_name = \"oidc-pzaborowski\"\n",
    "file_key = \"obs.csv\"\n",
    "#initiate credentials for boto3\n",
    "s3 = boto3.client('s3',\n",
    "                  endpoint_url='https://'+os.environ.get('AWS_S3_ENDPOINT'),\n",
    "                  aws_access_key_id=os.environ.get('AWS_ACCESS_KEY_ID'),\n",
    "                  aws_secret_access_key=os.environ.get('AWS_SECRET_ACCESS_KEY'),\n",
    "                  aws_session_token=os.environ.get('AWS_SESSION_TOKEN'),\n",
    "                  region_name=os.environ.get('AWS_DEFAULT_REGION'))\n",
    "response = s3.get_object(Bucket=bucket_name, Key=file_key)"
   ]
  },
  {
   "cell_type": "code",
   "execution_count": 48,
   "id": "8b7eb7c8",
   "metadata": {},
   "outputs": [
    {
     "data": {
      "text/plain": [
       "'id,stn_id,datetime,value,lat,long\\n371,35,\"2001-10-30T14:24:55Z\",89.9,45,-75\\n377,35,\"2002-10-30T18:31:38Z\",93.9,45,-75\\n238,2147,\"2007-10-30T08:57:29Z\",103.5,43,-79\\n297,2147,\"2003-10-30T07:37:29Z\",93.5,43,-79\\n964,604,\"2000-10-30T18:24:39Z\",99.9,49,-122\\n'"
      ]
     },
     "execution_count": 48,
     "metadata": {},
     "output_type": "execute_result"
    }
   ],
   "source": [
    "response = s3.get_object(Bucket=bucket_name, Key=file_key)\n",
    "csv = response['Body'].read().decode('utf-8')\n",
    "csv"
   ]
  },
  {
   "cell_type": "code",
   "execution_count": 54,
   "id": "10a8d885",
   "metadata": {},
   "outputs": [],
   "source": [
    "import geopandas as gpd\n",
    "import pandas as pd\n",
    "from io import StringIO\n",
    "\n",
    "# Read CSV string into DataFrame\n",
    "df = pd.read_csv(StringIO(csv))\n",
    "\n",
    "# Convert to GeoDataFrame using lat/long\n",
    "gdf = gpd.GeoDataFrame(\n",
    "    df,\n",
    "    geometry=gpd.points_from_xy(df['long'], df['lat']),\n",
    "    crs=\"EPSG:4326\"\n",
    ")\n",
    "\n",
    "# Save as GeoParquet\n",
    "gdf.to_parquet('obs.parquet', index=False)"
   ]
  },
  {
   "cell_type": "code",
   "execution_count": 55,
   "id": "0d7a67ec",
   "metadata": {},
   "outputs": [],
   "source": [
    "\n",
    "#upload geoparquet to s3\n",
    "s3.upload_file('obs.parquet', bucket_name, 'obs.parquet')\n",
    "\n",
    "#clean up\n",
    "os.remove('obs.parquet')"
   ]
  },
  {
   "cell_type": "code",
   "execution_count": 67,
   "id": "e5ee31ac",
   "metadata": {},
   "outputs": [
    {
     "data": {
      "text/plain": [
       "<pyarrow._dataset.FileSystemDataset at 0x111d94280>"
      ]
     },
     "execution_count": 67,
     "metadata": {},
     "output_type": "execute_result"
    }
   ],
   "source": [
    "# Source url is required\n",
    "source = \"s3://oidc-pzaborowski/obs.parquet\"\n",
    "import pyarrow\n",
    "import pyarrow.compute as pc\n",
    "import pyarrow.dataset\n",
    "import s3fs\n",
    "\n",
    "# Manage AWS S3 sources\n",
    "if source.startswith('s3'):\n",
    "    source = source.split('://', 1)[1]\n",
    "    fs = s3fs.S3FileSystem(\n",
    "        client_kwargs={'endpoint_url': 'https://'+os.environ[\"AWS_S3_ENDPOINT\"]},\n",
    "        key = os.environ[\"AWS_ACCESS_KEY_ID\"], \n",
    "        secret = os.environ[\"AWS_SECRET_ACCESS_KEY\"], \n",
    "        token = os.environ[\"AWS_SESSION_TOKEN\"],\n",
    "        default_cache_type='none')\n",
    "else:\n",
    "    fs = None\n",
    "\n",
    "ds = pyarrow.dataset.dataset(source, filesystem=fs)\n",
    "ds"
   ]
  },
  {
   "cell_type": "code",
   "execution_count": 68,
   "id": "429a7025",
   "metadata": {},
   "outputs": [
    {
     "data": {
      "text/plain": [
       "{'id': {'type': 'integer', 'format': 'int64'},\n",
       " 'stn_id': {'type': 'integer', 'format': 'int64'},\n",
       " 'datetime': {'type': 'string'},\n",
       " 'value': {'type': 'number', 'format': 'double'},\n",
       " 'lat': {'type': 'integer', 'format': 'int64'},\n",
       " 'long': {'type': 'integer', 'format': 'int64'}}"
      ]
     },
     "execution_count": 68,
     "metadata": {},
     "output_type": "execute_result"
    }
   ],
   "source": [
    "def get_fields():\n",
    "        \"\"\"\n",
    "        Get provider field information (names, types)\n",
    "\n",
    "        :returns: dict of fields\n",
    "        \"\"\"\n",
    "\n",
    "        fields = dict()\n",
    "\n",
    "        for field_name, field_type in zip(ds.schema.names,\n",
    "                                          ds.schema.types):\n",
    "            # Geometry is managed as a special case by pygeoapi\n",
    "            if field_name == 'geometry':\n",
    "                continue\n",
    "\n",
    "            field_type = str(field_type)\n",
    "            converted_type = None\n",
    "            converted_format = None\n",
    "            if field_type.startswith(('int', 'uint')):\n",
    "                converted_type = 'integer'\n",
    "                converted_format = field_type\n",
    "            elif field_type == 'double' or field_type.startswith('float'):\n",
    "                converted_type = 'number'\n",
    "                converted_format = field_type\n",
    "            elif field_type == 'string':\n",
    "                converted_type = 'string'\n",
    "            elif field_type == 'bool':\n",
    "                converted_type = 'boolean'\n",
    "            elif field_type.startswith('timestamp'):\n",
    "                converted_type = 'string'\n",
    "                converted_format = 'date-time'\n",
    "            else:\n",
    "                LOGGER.error(f'Unsupported field type {field_type}')\n",
    "\n",
    "            if converted_format is None:\n",
    "                fields[field_name] = {'type': converted_type}\n",
    "            else:\n",
    "                fields[field_name] = {\n",
    "                    'type': converted_type,\n",
    "                    'format': converted_format,\n",
    "                }\n",
    "\n",
    "        return fields\n",
    "fields = get_fields()\n",
    "fields"
   ]
  },
  {
   "cell_type": "code",
   "execution_count": null,
   "id": "fab99817",
   "metadata": {},
   "outputs": [],
   "source": []
  }
 ],
 "metadata": {
  "kernelspec": {
   "display_name": ".venv",
   "language": "python",
   "name": "python3"
  },
  "language_info": {
   "codemirror_mode": {
    "name": "ipython",
    "version": 3
   },
   "file_extension": ".py",
   "mimetype": "text/x-python",
   "name": "python",
   "nbconvert_exporter": "python",
   "pygments_lexer": "ipython3",
   "version": "3.11.5"
  }
 },
 "nbformat": 4,
 "nbformat_minor": 5
}
