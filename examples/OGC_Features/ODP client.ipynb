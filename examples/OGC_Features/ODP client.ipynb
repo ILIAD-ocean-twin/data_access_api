{
 "cells": [
  {
   "cell_type": "code",
   "execution_count": 13,
   "id": "3e972dcb",
   "metadata": {},
   "outputs": [
    {
     "name": "stdout",
     "output_type": "stream",
     "text": [
      "Requirement already satisfied: python-dotenv in /Users/piotr/repos/Iliad/data_access_api/.venv/lib/python3.11/site-packages (1.1.1)\n",
      "Collecting odp-sdk\n",
      "  Downloading odp_sdk-0.27.82-py3-none-any.whl.metadata (2.6 kB)\n",
      "Collecting cryptography<45.0.0,>=44.0.1 (from odp-sdk)\n",
      "  Downloading cryptography-44.0.3-cp39-abi3-macosx_10_9_universal2.whl.metadata (5.7 kB)\n",
      "Collecting geojson<4.0.0,>=3.1.0 (from odp-sdk)\n",
      "  Downloading geojson-3.2.0-py3-none-any.whl.metadata (16 kB)\n",
      "Requirement already satisfied: jsonschema<5.0.0,>=4.21.1 in /Users/piotr/repos/Iliad/data_access_api/.venv/lib/python3.11/site-packages (from odp-sdk) (4.23.0)\n",
      "Collecting msal<2.0.0,>=1.24.1 (from odp-sdk)\n",
      "  Downloading msal-1.34.0-py3-none-any.whl.metadata (11 kB)\n",
      "Collecting msal-extensions<2.0.0,>=1.1.0 (from odp-sdk)\n",
      "  Downloading msal_extensions-1.3.1-py3-none-any.whl.metadata (7.8 kB)\n",
      "Requirement already satisfied: pandas<3.0.0,>=2.1.4 in /Users/piotr/repos/Iliad/data_access_api/.venv/lib/python3.11/site-packages (from odp-sdk) (2.2.3)\n",
      "Collecting pyarrow<19.0.0,>=18.1.0 (from odp-sdk)\n",
      "  Downloading pyarrow-18.1.0-cp311-cp311-macosx_12_0_arm64.whl.metadata (3.3 kB)\n",
      "Collecting pyjwt<3.0.0,>=2.6.0 (from odp-sdk)\n",
      "  Downloading PyJWT-2.10.1-py3-none-any.whl.metadata (4.0 kB)\n",
      "Requirement already satisfied: shapely<3.0.0,>=2.0.7 in /Users/piotr/repos/Iliad/data_access_api/.venv/lib/python3.11/site-packages (from odp-sdk) (2.1.1)\n",
      "Collecting validators<0.29.0,>=0.28.3 (from odp-sdk)\n",
      "  Downloading validators-0.28.3-py3-none-any.whl.metadata (3.6 kB)\n",
      "Collecting cffi>=1.12 (from cryptography<45.0.0,>=44.0.1->odp-sdk)\n",
      "  Downloading cffi-2.0.0-cp311-cp311-macosx_11_0_arm64.whl.metadata (2.6 kB)\n",
      "Requirement already satisfied: attrs>=22.2.0 in /Users/piotr/repos/Iliad/data_access_api/.venv/lib/python3.11/site-packages (from jsonschema<5.0.0,>=4.21.1->odp-sdk) (24.2.0)\n",
      "Requirement already satisfied: jsonschema-specifications>=2023.03.6 in /Users/piotr/repos/Iliad/data_access_api/.venv/lib/python3.11/site-packages (from jsonschema<5.0.0,>=4.21.1->odp-sdk) (2024.10.1)\n",
      "Requirement already satisfied: referencing>=0.28.4 in /Users/piotr/repos/Iliad/data_access_api/.venv/lib/python3.11/site-packages (from jsonschema<5.0.0,>=4.21.1->odp-sdk) (0.35.1)\n",
      "Requirement already satisfied: rpds-py>=0.7.1 in /Users/piotr/repos/Iliad/data_access_api/.venv/lib/python3.11/site-packages (from jsonschema<5.0.0,>=4.21.1->odp-sdk) (0.21.0)\n",
      "Requirement already satisfied: requests<3,>=2.0.0 in /Users/piotr/repos/Iliad/data_access_api/.venv/lib/python3.11/site-packages (from msal<2.0.0,>=1.24.1->odp-sdk) (2.32.3)\n",
      "Requirement already satisfied: numpy>=1.23.2 in /Users/piotr/repos/Iliad/data_access_api/.venv/lib/python3.11/site-packages (from pandas<3.0.0,>=2.1.4->odp-sdk) (2.1.1)\n",
      "Requirement already satisfied: python-dateutil>=2.8.2 in /Users/piotr/repos/Iliad/data_access_api/.venv/lib/python3.11/site-packages (from pandas<3.0.0,>=2.1.4->odp-sdk) (2.9.0.post0)\n",
      "Requirement already satisfied: pytz>=2020.1 in /Users/piotr/repos/Iliad/data_access_api/.venv/lib/python3.11/site-packages (from pandas<3.0.0,>=2.1.4->odp-sdk) (2024.1)\n",
      "Requirement already satisfied: tzdata>=2022.7 in /Users/piotr/repos/Iliad/data_access_api/.venv/lib/python3.11/site-packages (from pandas<3.0.0,>=2.1.4->odp-sdk) (2024.2)\n",
      "Requirement already satisfied: charset-normalizer<4,>=2 in /Users/piotr/repos/Iliad/data_access_api/.venv/lib/python3.11/site-packages (from requests<3,>=2.0.0->msal<2.0.0,>=1.24.1->odp-sdk) (3.3.2)\n",
      "Requirement already satisfied: idna<4,>=2.5 in /Users/piotr/repos/Iliad/data_access_api/.venv/lib/python3.11/site-packages (from requests<3,>=2.0.0->msal<2.0.0,>=1.24.1->odp-sdk) (3.8)\n",
      "Requirement already satisfied: urllib3<3,>=1.21.1 in /Users/piotr/repos/Iliad/data_access_api/.venv/lib/python3.11/site-packages (from requests<3,>=2.0.0->msal<2.0.0,>=1.24.1->odp-sdk) (2.2.2)\n",
      "Requirement already satisfied: certifi>=2017.4.17 in /Users/piotr/repos/Iliad/data_access_api/.venv/lib/python3.11/site-packages (from requests<3,>=2.0.0->msal<2.0.0,>=1.24.1->odp-sdk) (2024.8.30)\n",
      "Collecting pycparser (from cffi>=1.12->cryptography<45.0.0,>=44.0.1->odp-sdk)\n",
      "  Downloading pycparser-2.23-py3-none-any.whl.metadata (993 bytes)\n",
      "Requirement already satisfied: six>=1.5 in /Users/piotr/repos/Iliad/data_access_api/.venv/lib/python3.11/site-packages (from python-dateutil>=2.8.2->pandas<3.0.0,>=2.1.4->odp-sdk) (1.16.0)\n",
      "Downloading odp_sdk-0.27.82-py3-none-any.whl (63 kB)\n",
      "Downloading cryptography-44.0.3-cp39-abi3-macosx_10_9_universal2.whl (6.7 MB)\n",
      "\u001b[2K   \u001b[90m━━━━━━━━━━━━━━━━━━━━━━━━━━━━━━━━━━━━━━━━\u001b[0m \u001b[32m6.7/6.7 MB\u001b[0m \u001b[31m491.1 kB/s\u001b[0m  \u001b[33m0:00:14\u001b[0mm0:00:01\u001b[0m00:01\u001b[0m\n",
      "\u001b[?25hDownloading geojson-3.2.0-py3-none-any.whl (15 kB)\n",
      "Downloading msal-1.34.0-py3-none-any.whl (116 kB)\n",
      "Downloading msal_extensions-1.3.1-py3-none-any.whl (20 kB)\n",
      "Downloading pyarrow-18.1.0-cp311-cp311-macosx_12_0_arm64.whl (29.6 MB)\n",
      "\u001b[2K   \u001b[91m━━━━━━━━━━━━━━━━━━━━━━━━━━━━━━━━━\u001b[0m\u001b[91m╸\u001b[0m\u001b[90m━━━━━━\u001b[0m \u001b[32m24.9/29.6 MB\u001b[0m \u001b[31m524.7 kB/s\u001b[0m eta \u001b[36m0:00:09\u001b[0m\n",
      "\u001b[?25h\u001b[33mWARNING: Connection timed out while downloading.\u001b[0m\u001b[33m\n",
      "\u001b[0m\u001b[33mWARNING: Attempting to resume incomplete download (24.9 MB/29.6 MB, attempt 1)\u001b[0m\u001b[33m\n",
      "\u001b[0mResuming download pyarrow-18.1.0-cp311-cp311-macosx_12_0_arm64.whl (24.9 MB/29.6 MB)\n",
      "\u001b[2K   \u001b[90m━━━━━━━━━━━━━━━━━━━━━━━━━━━━━━━━━━━━━━━━\u001b[0m \u001b[32m29.6/29.6 MB\u001b[0m \u001b[31m6.4 MB/s\u001b[0m  \u001b[33m0:00:00\u001b[0m eta \u001b[36m0:00:01\u001b[0m\n",
      "\u001b[?25hDownloading PyJWT-2.10.1-py3-none-any.whl (22 kB)\n",
      "Downloading validators-0.28.3-py3-none-any.whl (40 kB)\n",
      "Downloading cffi-2.0.0-cp311-cp311-macosx_11_0_arm64.whl (180 kB)\n",
      "Downloading pycparser-2.23-py3-none-any.whl (118 kB)\n",
      "Installing collected packages: validators, pyjwt, pycparser, pyarrow, geojson, cffi, cryptography, msal, msal-extensions, odp-sdk\n",
      "\u001b[2K  Attempting uninstall: validators\n",
      "\u001b[2K    Found existing installation: validators 0.35.0\n",
      "\u001b[2K    Uninstalling validators-0.35.0:\n",
      "\u001b[2K      Successfully uninstalled validators-0.35.0\n",
      "\u001b[2K  Attempting uninstall: pyarrow\n",
      "\u001b[2K    Found existing installation: pyarrow 18.0.0\n",
      "\u001b[2K    Uninstalling pyarrow-18.0.0:0m\u001b[90m━━━━━━━━━━━━━━━━━━━━━━━━━━━\u001b[0m \u001b[32m 3/10\u001b[0m [pyarrow]\n",
      "\u001b[2K      Successfully uninstalled pyarrow-18.0.0━━━━━━━━━━━━━━━━━\u001b[0m \u001b[32m 3/10\u001b[0m [pyarrow]\n",
      "\u001b[2K   \u001b[90m━━━━━━━━━━━━━━━━━━━━━━━━━━━━━━━━━━━━━━━━\u001b[0m \u001b[32m10/10\u001b[0m [odp-sdk]9/10\u001b[0m [odp-sdk]aphy]\n",
      "\u001b[1A\u001b[2K\u001b[31mERROR: pip's dependency resolver does not currently take into account all the packages that are installed. This behaviour is the source of the following dependency conflicts.\n",
      "datasets 3.6.0 requires fsspec[http]<=2025.3.0,>=2023.1.0, but you have fsspec 2025.5.1 which is incompatible.\u001b[0m\u001b[31m\n",
      "\u001b[0mSuccessfully installed cffi-2.0.0 cryptography-44.0.3 geojson-3.2.0 msal-1.34.0 msal-extensions-1.3.1 odp-sdk-0.27.82 pyarrow-18.1.0 pycparser-2.23 pyjwt-2.10.1 validators-0.28.3\n"
     ]
    }
   ],
   "source": [
    "!pip install python-dotenv\n",
    "!pip install odp-sdk"
   ]
  },
  {
   "cell_type": "code",
   "execution_count": null,
   "id": "52fc8b1f",
   "metadata": {},
   "outputs": [
    {
     "name": "stdout",
     "output_type": "stream",
     "text": [
      "False\n",
      "True\n"
     ]
    }
   ],
   "source": [
    "import os \n",
    "api_key = os.environ.get('ODP_API_KEY')\n",
    "print(api_key != None)"
   ]
  },
  {
   "cell_type": "code",
   "execution_count": null,
   "id": "5d77de47",
   "metadata": {},
   "outputs": [
    {
     "name": "stderr",
     "output_type": "stream",
     "text": [
      "/var/folders/4c/mxsj6f9d5_x8cjryn16fb1c40000gn/T/ipykernel_79839/3393960434.py:4: DeprecationWarning: catalog class is deprecated and will be removed in a future versions. Use catalog_v2 class instead.\n",
      "  dataset = client.catalog.get(f\"catalog.hubocean.io/dataset/{dataset_name}\")\n"
     ]
    },
    {
     "ename": "HTTPError",
     "evalue": "HTTP Error - 503: no available server\n",
     "output_type": "error",
     "traceback": [
      "\u001b[0;31m---------------------------------------------------------------------------\u001b[0m",
      "\u001b[0;31mHTTPError\u001b[0m                                 Traceback (most recent call last)",
      "File \u001b[0;32m~/repos/Iliad/data_access_api/.venv/lib/python3.11/site-packages/odp/client/resource_client.py:67\u001b[0m, in \u001b[0;36mOdpResourceClient.get\u001b[0;34m(self, ref, tp, assert_type, raise_unknown_kind)\u001b[0m\n\u001b[1;32m     66\u001b[0m \u001b[38;5;28;01mtry\u001b[39;00m:\n\u001b[0;32m---> 67\u001b[0m     \u001b[43mres\u001b[49m\u001b[38;5;241;43m.\u001b[39;49m\u001b[43mraise_for_status\u001b[49m\u001b[43m(\u001b[49m\u001b[43m)\u001b[49m\n\u001b[1;32m     68\u001b[0m \u001b[38;5;28;01mexcept\u001b[39;00m requests\u001b[38;5;241m.\u001b[39mHTTPError \u001b[38;5;28;01mas\u001b[39;00m e:\n",
      "File \u001b[0;32m~/repos/Iliad/data_access_api/.venv/lib/python3.11/site-packages/requests/models.py:1024\u001b[0m, in \u001b[0;36mResponse.raise_for_status\u001b[0;34m(self)\u001b[0m\n\u001b[1;32m   1023\u001b[0m \u001b[38;5;28;01mif\u001b[39;00m http_error_msg:\n\u001b[0;32m-> 1024\u001b[0m     \u001b[38;5;28;01mraise\u001b[39;00m HTTPError(http_error_msg, response\u001b[38;5;241m=\u001b[39m\u001b[38;5;28mself\u001b[39m)\n",
      "\u001b[0;31mHTTPError\u001b[0m: 503 Server Error: Service Unavailable for url: https://api.hubocean.earth/catalog/catalog.hubocean.io/dataset/42cae68c-245a-4489-af48-6ad841b9ef65",
      "\nDuring handling of the above exception, another exception occurred:\n",
      "\u001b[0;31mHTTPError\u001b[0m                                 Traceback (most recent call last)",
      "Cell \u001b[0;32mIn[18], line 4\u001b[0m\n\u001b[1;32m      2\u001b[0m client \u001b[38;5;241m=\u001b[39m OdpClient(api_key\u001b[38;5;241m=\u001b[39mapi_key)\n\u001b[1;32m      3\u001b[0m dataset_name \u001b[38;5;241m=\u001b[39m \u001b[38;5;124m\"\u001b[39m\u001b[38;5;124m42cae68c-245a-4489-af48-6ad841b9ef65\u001b[39m\u001b[38;5;124m\"\u001b[39m\n\u001b[0;32m----> 4\u001b[0m dataset \u001b[38;5;241m=\u001b[39m \u001b[43mclient\u001b[49m\u001b[38;5;241;43m.\u001b[39;49m\u001b[43mcatalog\u001b[49m\u001b[38;5;241;43m.\u001b[39;49m\u001b[43mget\u001b[49m\u001b[43m(\u001b[49m\u001b[38;5;124;43mf\u001b[39;49m\u001b[38;5;124;43m\"\u001b[39;49m\u001b[38;5;124;43mcatalog.hubocean.io/dataset/\u001b[39;49m\u001b[38;5;132;43;01m{\u001b[39;49;00m\u001b[43mdataset_name\u001b[49m\u001b[38;5;132;43;01m}\u001b[39;49;00m\u001b[38;5;124;43m\"\u001b[39;49m\u001b[43m)\u001b[49m\n\u001b[1;32m      5\u001b[0m \u001b[38;5;28mprint\u001b[39m(dataset)\n",
      "File \u001b[0;32m~/repos/Iliad/data_access_api/.venv/lib/python3.11/site-packages/odp/client/resource_client.py:73\u001b[0m, in \u001b[0;36mOdpResourceClient.get\u001b[0;34m(self, ref, tp, assert_type, raise_unknown_kind)\u001b[0m\n\u001b[1;32m     71\u001b[0m     \u001b[38;5;28;01mif\u001b[39;00m res\u001b[38;5;241m.\u001b[39mstatus_code \u001b[38;5;241m==\u001b[39m \u001b[38;5;241m404\u001b[39m:\n\u001b[1;32m     72\u001b[0m         \u001b[38;5;28;01mraise\u001b[39;00m OdpResourceNotFoundError(\u001b[38;5;124mf\u001b[39m\u001b[38;5;124m\"\u001b[39m\u001b[38;5;124mResource not found: \u001b[39m\u001b[38;5;132;01m{\u001b[39;00mref\u001b[38;5;132;01m}\u001b[39;00m\u001b[38;5;124m\"\u001b[39m) \u001b[38;5;28;01mfrom\u001b[39;00m \u001b[38;5;21;01me\u001b[39;00m\n\u001b[0;32m---> 73\u001b[0m     \u001b[38;5;28;01mraise\u001b[39;00m requests\u001b[38;5;241m.\u001b[39mHTTPError(\u001b[38;5;124mf\u001b[39m\u001b[38;5;124m\"\u001b[39m\u001b[38;5;124mHTTP Error - \u001b[39m\u001b[38;5;132;01m{\u001b[39;00mres\u001b[38;5;241m.\u001b[39mstatus_code\u001b[38;5;132;01m}\u001b[39;00m\u001b[38;5;124m: \u001b[39m\u001b[38;5;132;01m{\u001b[39;00mres\u001b[38;5;241m.\u001b[39mtext\u001b[38;5;132;01m}\u001b[39;00m\u001b[38;5;124m\"\u001b[39m)\n\u001b[1;32m     75\u001b[0m \u001b[38;5;28;01mreturn\u001b[39;00m ResourceDto\u001b[38;5;241m.\u001b[39mcreate(\u001b[38;5;241m*\u001b[39m\u001b[38;5;241m*\u001b[39mres\u001b[38;5;241m.\u001b[39mjson())\n",
      "\u001b[0;31mHTTPError\u001b[0m: HTTP Error - 503: no available server\n"
     ]
    }
   ],
   "source": [
    "#first test the api key with the sample from https://app.hubocean.earth/account\n",
    "\n",
    "from odp.client import OdpClient\n",
    "client = OdpClient(api_key=api_key)\n",
    "dataset_name = \"42cae68c-245a-4489-af48-6ad841b9ef65\"\n",
    "dataset = client.catalog.get(f\"catalog.hubocean.io/dataset/{dataset_name}\")\n",
    "print(dataset)\n",
    "tab = client.table_v2(dataset)\n",
    "for row in tab.select().rows():\n",
    "  print(row)\n",
    "#for the moment this returns HTTP Error - 503: no available server\n",
    "\n",
    "#ignore this and try features catalog...\n"
   ]
  },
  {
   "cell_type": "code",
   "execution_count": null,
   "id": "3219ebfc",
   "metadata": {},
   "outputs": [
    {
     "data": {
      "text/plain": [
       "{'conformsTo': ['http://www.opengis.net/spec/ogcapi-features-1/1.0/conf/core',\n",
       "  'http://www.opengis.net/spec/ogcapi-features-1/1.0/conf/oas30',\n",
       "  'http://www.opengis.net/spec/ogcapi-features-1/1.0/conf/html']}"
      ]
     },
     "execution_count": 30,
     "metadata": {},
     "output_type": "execute_result"
    }
   ],
   "source": [
    "#I've already used QGIS for this connection to preview some data, but qgis does not allow to discover all the option available.ValueError\n",
    "\n",
    "# I'll use OWSlib \n",
    "import owslib\n",
    "from owslib.ogcapi.features import Features\n",
    "# connect to OGC Features endpoint with OWSLIB\n",
    "_headers = {\"Authorization\": f\"ApiKey sk_26baf4fa04be54136b2aa34b\"}\n",
    "odp_features_url = \"https://api.hubocean.earth/api/features\"\n",
    "w = Features(odp_features_url, headers=_headers)\n",
    "\n",
    "conformance = w.conformance()\n",
    "conformance"
   ]
  },
  {
   "cell_type": "markdown",
   "id": "6f75ed25",
   "metadata": {},
   "source": [
    "So we know Features part 1 is implemented with this response\n",
    "{'conformsTo': ['http://www.opengis.net/spec/ogcapi-features-1/1.0/conf/core',\n",
    "  'http://www.opengis.net/spec/ogcapi-features-1/1.0/conf/oas30',\n",
    "  'http://www.opengis.net/spec/ogcapi-features-1/1.0/conf/html']}\n",
    "\n",
    "it hould provide openAPI descritpion, lets check"
   ]
  },
  {
   "cell_type": "code",
   "execution_count": 31,
   "id": "43a24c2a",
   "metadata": {},
   "outputs": [
    {
     "data": {
      "text/plain": [
       "{'openapi': '3.0.3',\n",
       " 'info': {'title': 'Ocean Data Platform OGC API – Features',\n",
       "  'version': '0.1.0',\n",
       "  'description': 'OGC API Features core.\\n\\n'},\n",
       " 'servers': [{'url': 'https://api.hubocean.earth/api/features',\n",
       "   'description': 'Default server'}],\n",
       " 'paths': {'/': {'get': {'summary': 'Landing page',\n",
       "    'responses': {'200': {'description': 'Landing page'}}}},\n",
       "  '/conformance': {'get': {'summary': 'Conformance declaration',\n",
       "    'responses': {'200': {'description': 'Conformance set'}}}},\n",
       "  '/collections': {'get': {'summary': 'List collections',\n",
       "    'responses': {'200': {'description': 'Collections list'}}}},\n",
       "  '/collections/{collectionId}': {'get': {'summary': 'Describe collection',\n",
       "    'parameters': [{'name': 'collectionId',\n",
       "      'in': 'path',\n",
       "      'required': True,\n",
       "      'schema': {'type': 'string'}}],\n",
       "    'responses': {'200': {'description': 'Collection metadata'}}}},\n",
       "  '/collections/{collectionId}/items': {'get': {'summary': 'Fetch features',\n",
       "    'parameters': [{'name': 'collectionId',\n",
       "      'in': 'path',\n",
       "      'required': True,\n",
       "      'schema': {'type': 'string'}},\n",
       "     {'name': 'limit',\n",
       "      'in': 'query',\n",
       "      'schema': {'type': 'integer',\n",
       "       'minimum': 1,\n",
       "       'maximum': 50000,\n",
       "       'default': 25000}},\n",
       "     {'name': 'bbox',\n",
       "      'in': 'query',\n",
       "      'style': 'form',\n",
       "      'explode': False,\n",
       "      'schema': {'type': 'array',\n",
       "       'items': {'type': 'number'},\n",
       "       'minItems': 4,\n",
       "       'maxItems': 6}},\n",
       "     {'name': 'datetime', 'in': 'query', 'schema': {'type': 'string'}}],\n",
       "    'responses': {'200': {'description': 'GeoJSON FeatureCollection'}}}},\n",
       "  '/collections/{collectionId}/items/{featureId}': {'get': {'summary': 'Fetch single feature',\n",
       "    'parameters': [{'name': 'collectionId',\n",
       "      'in': 'path',\n",
       "      'required': True,\n",
       "      'schema': {'type': 'string'}},\n",
       "     {'name': 'featureId',\n",
       "      'in': 'path',\n",
       "      'required': True,\n",
       "      'schema': {'type': 'string'}}],\n",
       "    'responses': {'200': {'description': 'GeoJSON Feature'}}}}},\n",
       " 'components': {'parameters': {'limit': {'name': 'limit',\n",
       "    'in': 'query',\n",
       "    'schema': {'type': 'integer',\n",
       "     'minimum': 1,\n",
       "     'maximum': 50000,\n",
       "     'default': 25000},\n",
       "    'style': 'form',\n",
       "    'explode': False}}}}"
      ]
     },
     "execution_count": 31,
     "metadata": {},
     "output_type": "execute_result"
    }
   ],
   "source": [
    "w.api()"
   ]
  },
  {
   "cell_type": "markdown",
   "id": "81bf8ade",
   "metadata": {},
   "source": [
    "Quicly looking looks useful. We know how can we query on the collections level\n",
    " - maybe /openapi itself could be added \n",
    " "
   ]
  },
  {
   "cell_type": "code",
   "execution_count": null,
   "id": "08248a3c",
   "metadata": {},
   "outputs": [],
   "source": []
  },
  {
   "cell_type": "markdown",
   "id": "40cc0fac",
   "metadata": {},
   "source": [
    "quicly looking looks usefule"
   ]
  }
 ],
 "metadata": {
  "kernelspec": {
   "display_name": ".venv",
   "language": "python",
   "name": "python3"
  },
  "language_info": {
   "codemirror_mode": {
    "name": "ipython",
    "version": 3
   },
   "file_extension": ".py",
   "mimetype": "text/x-python",
   "name": "python",
   "nbconvert_exporter": "python",
   "pygments_lexer": "ipython3",
   "version": "3.11.5"
  }
 },
 "nbformat": 4,
 "nbformat_minor": 5
}
