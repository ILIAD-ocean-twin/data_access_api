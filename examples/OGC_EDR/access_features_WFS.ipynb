{
 "cells": [
  {
   "cell_type": "code",
   "execution_count": 1,
   "metadata": {},
   "outputs": [
    {
     "name": "stdout",
     "output_type": "stream",
     "text": [
      "Error while loading conda entry point: conda-libmamba-solver (dlopen(/opt/anaconda3/lib/python3.11/site-packages/libmambapy/bindings.cpython-311-darwin.so, 0x0002): Library not loaded: @rpath/libarchive.20.dylib\n",
      "  Referenced from: <496442DC-0EDE-3705-A2B5-401A4FC0D733> /opt/anaconda3/lib/libmamba.2.0.0.dylib\n",
      "  Reason: tried: '/opt/anaconda3/lib/libarchive.20.dylib' (no such file), '/opt/anaconda3/lib/python3.11/site-packages/libmambapy/../../../libarchive.20.dylib' (no such file), '/opt/anaconda3/lib/python3.11/site-packages/libmambapy/../../../libarchive.20.dylib' (no such file), '/opt/anaconda3/bin/../lib/libarchive.20.dylib' (no such file), '/opt/anaconda3/bin/../lib/libarchive.20.dylib' (no such file), '/usr/local/lib/libarchive.20.dylib' (no such file), '/usr/lib/libarchive.20.dylib' (no such file, not in dyld cache))\n",
      "Error while loading conda entry point: conda-libmamba-solver (dlopen(/opt/anaconda3/lib/python3.11/site-packages/libmambapy/bindings.cpython-311-darwin.so, 0x0002): Library not loaded: @rpath/libarchive.20.dylib\n",
      "  Referenced from: <496442DC-0EDE-3705-A2B5-401A4FC0D733> /opt/anaconda3/lib/libmamba.2.0.0.dylib\n",
      "  Reason: tried: '/opt/anaconda3/lib/libarchive.20.dylib' (no such file), '/opt/anaconda3/lib/python3.11/site-packages/libmambapy/../../../libarchive.20.dylib' (no such file), '/opt/anaconda3/lib/python3.11/site-packages/libmambapy/../../../libarchive.20.dylib' (no such file), '/opt/anaconda3/bin/../lib/libarchive.20.dylib' (no such file), '/opt/anaconda3/bin/../lib/libarchive.20.dylib' (no such file), '/usr/local/lib/libarchive.20.dylib' (no such file), '/usr/lib/libarchive.20.dylib' (no such file, not in dyld cache))\n",
      "Retrieving notices: ...working... done\n",
      "\n",
      "CondaValueError: You have chosen a non-default solver backend (libmamba) but it was not recognized. Choose one of: classic\n",
      "\n",
      "Requirement already satisfied: geopandas in /Users/piotr/repos/Iliad/data_access_api/.venv/lib/python3.11/site-packages (1.1.1)\n",
      "Requirement already satisfied: numpy>=1.24 in /Users/piotr/repos/Iliad/data_access_api/.venv/lib/python3.11/site-packages (from geopandas) (2.1.1)\n",
      "Requirement already satisfied: pyogrio>=0.7.2 in /Users/piotr/repos/Iliad/data_access_api/.venv/lib/python3.11/site-packages (from geopandas) (0.11.0)\n",
      "Requirement already satisfied: packaging in /Users/piotr/repos/Iliad/data_access_api/.venv/lib/python3.11/site-packages (from geopandas) (24.1)\n",
      "Requirement already satisfied: pandas>=2.0.0 in /Users/piotr/repos/Iliad/data_access_api/.venv/lib/python3.11/site-packages (from geopandas) (2.2.3)\n",
      "Requirement already satisfied: pyproj>=3.5.0 in /Users/piotr/repos/Iliad/data_access_api/.venv/lib/python3.11/site-packages (from geopandas) (3.7.1)\n",
      "Requirement already satisfied: shapely>=2.0.0 in /Users/piotr/repos/Iliad/data_access_api/.venv/lib/python3.11/site-packages (from geopandas) (2.1.1)\n",
      "Requirement already satisfied: python-dateutil>=2.8.2 in /Users/piotr/repos/Iliad/data_access_api/.venv/lib/python3.11/site-packages (from pandas>=2.0.0->geopandas) (2.9.0.post0)\n",
      "Requirement already satisfied: pytz>=2020.1 in /Users/piotr/repos/Iliad/data_access_api/.venv/lib/python3.11/site-packages (from pandas>=2.0.0->geopandas) (2024.1)\n",
      "Requirement already satisfied: tzdata>=2022.7 in /Users/piotr/repos/Iliad/data_access_api/.venv/lib/python3.11/site-packages (from pandas>=2.0.0->geopandas) (2024.2)\n",
      "Requirement already satisfied: certifi in /Users/piotr/repos/Iliad/data_access_api/.venv/lib/python3.11/site-packages (from pyogrio>=0.7.2->geopandas) (2024.8.30)\n",
      "Requirement already satisfied: six>=1.5 in /Users/piotr/repos/Iliad/data_access_api/.venv/lib/python3.11/site-packages (from python-dateutil>=2.8.2->pandas>=2.0.0->geopandas) (1.16.0)\n",
      "\n",
      "\u001b[1m[\u001b[0m\u001b[34;49mnotice\u001b[0m\u001b[1;39;49m]\u001b[0m\u001b[39;49m A new release of pip is available: \u001b[0m\u001b[31;49m24.3.1\u001b[0m\u001b[39;49m -> \u001b[0m\u001b[32;49m25.2\u001b[0m\n",
      "\u001b[1m[\u001b[0m\u001b[34;49mnotice\u001b[0m\u001b[1;39;49m]\u001b[0m\u001b[39;49m To update, run: \u001b[0m\u001b[32;49mpip install --upgrade pip\u001b[0m\n"
     ]
    }
   ],
   "source": [
    "!conda install -cf conda-forge pyogrio\n",
    "!pip install geopandas\n",
    "\n"
   ]
  },
  {
   "cell_type": "code",
   "execution_count": 3,
   "metadata": {},
   "outputs": [
    {
     "name": "stdout",
     "output_type": "stream",
     "text": [
      "Requirement already satisfied: owslib in /Users/piotr/repos/Iliad/data_access_api/.venv/lib/python3.11/site-packages (0.31.0)\n",
      "Requirement already satisfied: geopandas in /Users/piotr/repos/Iliad/data_access_api/.venv/lib/python3.11/site-packages (1.1.1)\n",
      "Requirement already satisfied: matplotlib in /Users/piotr/repos/Iliad/data_access_api/.venv/lib/python3.11/site-packages (3.9.2)\n",
      "Collecting ipyleaflet\n",
      "  Downloading ipyleaflet-0.20.0-py3-none-any.whl.metadata (5.3 kB)\n",
      "Requirement already satisfied: lxml in /Users/piotr/repos/Iliad/data_access_api/.venv/lib/python3.11/site-packages (from owslib) (5.3.0)\n",
      "Requirement already satisfied: python-dateutil>=1.5 in /Users/piotr/repos/Iliad/data_access_api/.venv/lib/python3.11/site-packages (from owslib) (2.9.0.post0)\n",
      "Requirement already satisfied: pytz in /Users/piotr/repos/Iliad/data_access_api/.venv/lib/python3.11/site-packages (from owslib) (2024.1)\n",
      "Requirement already satisfied: pyyaml in /Users/piotr/repos/Iliad/data_access_api/.venv/lib/python3.11/site-packages (from owslib) (6.0.2)\n",
      "Requirement already satisfied: requests>=1.0 in /Users/piotr/repos/Iliad/data_access_api/.venv/lib/python3.11/site-packages (from owslib) (2.32.3)\n",
      "Requirement already satisfied: numpy>=1.24 in /Users/piotr/repos/Iliad/data_access_api/.venv/lib/python3.11/site-packages (from geopandas) (2.1.1)\n",
      "Requirement already satisfied: pyogrio>=0.7.2 in /Users/piotr/repos/Iliad/data_access_api/.venv/lib/python3.11/site-packages (from geopandas) (0.11.0)\n",
      "Requirement already satisfied: packaging in /Users/piotr/repos/Iliad/data_access_api/.venv/lib/python3.11/site-packages (from geopandas) (24.1)\n",
      "Requirement already satisfied: pandas>=2.0.0 in /Users/piotr/repos/Iliad/data_access_api/.venv/lib/python3.11/site-packages (from geopandas) (2.2.3)\n",
      "Requirement already satisfied: pyproj>=3.5.0 in /Users/piotr/repos/Iliad/data_access_api/.venv/lib/python3.11/site-packages (from geopandas) (3.7.1)\n",
      "Requirement already satisfied: shapely>=2.0.0 in /Users/piotr/repos/Iliad/data_access_api/.venv/lib/python3.11/site-packages (from geopandas) (2.1.1)\n",
      "Requirement already satisfied: contourpy>=1.0.1 in /Users/piotr/repos/Iliad/data_access_api/.venv/lib/python3.11/site-packages (from matplotlib) (1.3.0)\n",
      "Requirement already satisfied: cycler>=0.10 in /Users/piotr/repos/Iliad/data_access_api/.venv/lib/python3.11/site-packages (from matplotlib) (0.12.1)\n",
      "Requirement already satisfied: fonttools>=4.22.0 in /Users/piotr/repos/Iliad/data_access_api/.venv/lib/python3.11/site-packages (from matplotlib) (4.54.1)\n",
      "Requirement already satisfied: kiwisolver>=1.3.1 in /Users/piotr/repos/Iliad/data_access_api/.venv/lib/python3.11/site-packages (from matplotlib) (1.4.7)\n",
      "Requirement already satisfied: pillow>=8 in /Users/piotr/repos/Iliad/data_access_api/.venv/lib/python3.11/site-packages (from matplotlib) (11.0.0)\n",
      "Requirement already satisfied: pyparsing>=2.3.1 in /Users/piotr/repos/Iliad/data_access_api/.venv/lib/python3.11/site-packages (from matplotlib) (3.1.4)\n",
      "Requirement already satisfied: branca>=0.5.0 in /Users/piotr/repos/Iliad/data_access_api/.venv/lib/python3.11/site-packages (from ipyleaflet) (0.8.0)\n",
      "Collecting ipywidgets<9,>=7.6.0 (from ipyleaflet)\n",
      "  Downloading ipywidgets-8.1.7-py3-none-any.whl.metadata (2.4 kB)\n",
      "Collecting jupyter-leaflet<0.21,>=0.20 (from ipyleaflet)\n",
      "  Downloading jupyter_leaflet-0.20.0-py3-none-any.whl.metadata (2.4 kB)\n",
      "Collecting traittypes<3,>=0.2.1 (from ipyleaflet)\n",
      "  Using cached traittypes-0.2.1-py2.py3-none-any.whl.metadata (1.0 kB)\n",
      "Requirement already satisfied: xyzservices>=2021.8.1 in /Users/piotr/repos/Iliad/data_access_api/.venv/lib/python3.11/site-packages (from ipyleaflet) (2024.9.0)\n",
      "Requirement already satisfied: jinja2>=3 in /Users/piotr/repos/Iliad/data_access_api/.venv/lib/python3.11/site-packages (from branca>=0.5.0->ipyleaflet) (3.1.4)\n",
      "Requirement already satisfied: comm>=0.1.3 in /Users/piotr/repos/Iliad/data_access_api/.venv/lib/python3.11/site-packages (from ipywidgets<9,>=7.6.0->ipyleaflet) (0.2.2)\n",
      "Requirement already satisfied: ipython>=6.1.0 in /Users/piotr/repos/Iliad/data_access_api/.venv/lib/python3.11/site-packages (from ipywidgets<9,>=7.6.0->ipyleaflet) (8.27.0)\n",
      "Requirement already satisfied: traitlets>=4.3.1 in /Users/piotr/repos/Iliad/data_access_api/.venv/lib/python3.11/site-packages (from ipywidgets<9,>=7.6.0->ipyleaflet) (5.14.3)\n",
      "Collecting widgetsnbextension~=4.0.14 (from ipywidgets<9,>=7.6.0->ipyleaflet)\n",
      "  Downloading widgetsnbextension-4.0.14-py3-none-any.whl.metadata (1.6 kB)\n",
      "Collecting jupyterlab_widgets~=3.0.15 (from ipywidgets<9,>=7.6.0->ipyleaflet)\n",
      "  Downloading jupyterlab_widgets-3.0.15-py3-none-any.whl.metadata (20 kB)\n",
      "Requirement already satisfied: tzdata>=2022.7 in /Users/piotr/repos/Iliad/data_access_api/.venv/lib/python3.11/site-packages (from pandas>=2.0.0->geopandas) (2024.2)\n",
      "Requirement already satisfied: certifi in /Users/piotr/repos/Iliad/data_access_api/.venv/lib/python3.11/site-packages (from pyogrio>=0.7.2->geopandas) (2024.8.30)\n",
      "Requirement already satisfied: six>=1.5 in /Users/piotr/repos/Iliad/data_access_api/.venv/lib/python3.11/site-packages (from python-dateutil>=1.5->owslib) (1.16.0)\n",
      "Requirement already satisfied: charset-normalizer<4,>=2 in /Users/piotr/repos/Iliad/data_access_api/.venv/lib/python3.11/site-packages (from requests>=1.0->owslib) (3.3.2)\n",
      "Requirement already satisfied: idna<4,>=2.5 in /Users/piotr/repos/Iliad/data_access_api/.venv/lib/python3.11/site-packages (from requests>=1.0->owslib) (3.8)\n",
      "Requirement already satisfied: urllib3<3,>=1.21.1 in /Users/piotr/repos/Iliad/data_access_api/.venv/lib/python3.11/site-packages (from requests>=1.0->owslib) (2.2.2)\n",
      "Requirement already satisfied: decorator in /Users/piotr/repos/Iliad/data_access_api/.venv/lib/python3.11/site-packages (from ipython>=6.1.0->ipywidgets<9,>=7.6.0->ipyleaflet) (5.1.1)\n",
      "Requirement already satisfied: jedi>=0.16 in /Users/piotr/repos/Iliad/data_access_api/.venv/lib/python3.11/site-packages (from ipython>=6.1.0->ipywidgets<9,>=7.6.0->ipyleaflet) (0.19.1)\n",
      "Requirement already satisfied: matplotlib-inline in /Users/piotr/repos/Iliad/data_access_api/.venv/lib/python3.11/site-packages (from ipython>=6.1.0->ipywidgets<9,>=7.6.0->ipyleaflet) (0.1.7)\n",
      "Requirement already satisfied: prompt-toolkit<3.1.0,>=3.0.41 in /Users/piotr/repos/Iliad/data_access_api/.venv/lib/python3.11/site-packages (from ipython>=6.1.0->ipywidgets<9,>=7.6.0->ipyleaflet) (3.0.47)\n",
      "Requirement already satisfied: pygments>=2.4.0 in /Users/piotr/repos/Iliad/data_access_api/.venv/lib/python3.11/site-packages (from ipython>=6.1.0->ipywidgets<9,>=7.6.0->ipyleaflet) (2.18.0)\n",
      "Requirement already satisfied: stack-data in /Users/piotr/repos/Iliad/data_access_api/.venv/lib/python3.11/site-packages (from ipython>=6.1.0->ipywidgets<9,>=7.6.0->ipyleaflet) (0.6.3)\n",
      "Requirement already satisfied: typing-extensions>=4.6 in /Users/piotr/repos/Iliad/data_access_api/.venv/lib/python3.11/site-packages (from ipython>=6.1.0->ipywidgets<9,>=7.6.0->ipyleaflet) (4.12.2)\n",
      "Requirement already satisfied: pexpect>4.3 in /Users/piotr/repos/Iliad/data_access_api/.venv/lib/python3.11/site-packages (from ipython>=6.1.0->ipywidgets<9,>=7.6.0->ipyleaflet) (4.9.0)\n",
      "Requirement already satisfied: MarkupSafe>=2.0 in /Users/piotr/repos/Iliad/data_access_api/.venv/lib/python3.11/site-packages (from jinja2>=3->branca>=0.5.0->ipyleaflet) (3.0.2)\n",
      "Requirement already satisfied: parso<0.9.0,>=0.8.3 in /Users/piotr/repos/Iliad/data_access_api/.venv/lib/python3.11/site-packages (from jedi>=0.16->ipython>=6.1.0->ipywidgets<9,>=7.6.0->ipyleaflet) (0.8.4)\n",
      "Requirement already satisfied: ptyprocess>=0.5 in /Users/piotr/repos/Iliad/data_access_api/.venv/lib/python3.11/site-packages (from pexpect>4.3->ipython>=6.1.0->ipywidgets<9,>=7.6.0->ipyleaflet) (0.7.0)\n",
      "Requirement already satisfied: wcwidth in /Users/piotr/repos/Iliad/data_access_api/.venv/lib/python3.11/site-packages (from prompt-toolkit<3.1.0,>=3.0.41->ipython>=6.1.0->ipywidgets<9,>=7.6.0->ipyleaflet) (0.2.13)\n",
      "Requirement already satisfied: executing>=1.2.0 in /Users/piotr/repos/Iliad/data_access_api/.venv/lib/python3.11/site-packages (from stack-data->ipython>=6.1.0->ipywidgets<9,>=7.6.0->ipyleaflet) (2.1.0)\n",
      "Requirement already satisfied: asttokens>=2.1.0 in /Users/piotr/repos/Iliad/data_access_api/.venv/lib/python3.11/site-packages (from stack-data->ipython>=6.1.0->ipywidgets<9,>=7.6.0->ipyleaflet) (2.4.1)\n",
      "Requirement already satisfied: pure-eval in /Users/piotr/repos/Iliad/data_access_api/.venv/lib/python3.11/site-packages (from stack-data->ipython>=6.1.0->ipywidgets<9,>=7.6.0->ipyleaflet) (0.2.3)\n",
      "Downloading ipyleaflet-0.20.0-py3-none-any.whl (31 kB)\n",
      "Downloading ipywidgets-8.1.7-py3-none-any.whl (139 kB)\n",
      "Downloading jupyter_leaflet-0.20.0-py3-none-any.whl (1.1 MB)\n",
      "\u001b[2K   \u001b[90m━━━━━━━━━━━━━━━━━━━━━━━━━━━━━━━━━━━━━━━━\u001b[0m \u001b[32m1.1/1.1 MB\u001b[0m \u001b[31m10.4 MB/s\u001b[0m eta \u001b[36m0:00:00\u001b[0m\n",
      "\u001b[?25hUsing cached traittypes-0.2.1-py2.py3-none-any.whl (8.6 kB)\n",
      "Downloading jupyterlab_widgets-3.0.15-py3-none-any.whl (216 kB)\n",
      "Downloading widgetsnbextension-4.0.14-py3-none-any.whl (2.2 MB)\n",
      "\u001b[2K   \u001b[90m━━━━━━━━━━━━━━━━━━━━━━━━━━━━━━━━━━━━━━━━\u001b[0m \u001b[32m2.2/2.2 MB\u001b[0m \u001b[31m11.0 MB/s\u001b[0m eta \u001b[36m0:00:00\u001b[0m\n",
      "\u001b[?25hInstalling collected packages: widgetsnbextension, traittypes, jupyterlab_widgets, jupyter-leaflet, ipywidgets, ipyleaflet\n",
      "Successfully installed ipyleaflet-0.20.0 ipywidgets-8.1.7 jupyter-leaflet-0.20.0 jupyterlab_widgets-3.0.15 traittypes-0.2.1 widgetsnbextension-4.0.14\n",
      "\n",
      "\u001b[1m[\u001b[0m\u001b[34;49mnotice\u001b[0m\u001b[1;39;49m]\u001b[0m\u001b[39;49m A new release of pip is available: \u001b[0m\u001b[31;49m24.3.1\u001b[0m\u001b[39;49m -> \u001b[0m\u001b[32;49m25.2\u001b[0m\n",
      "\u001b[1m[\u001b[0m\u001b[34;49mnotice\u001b[0m\u001b[1;39;49m]\u001b[0m\u001b[39;49m To update, run: \u001b[0m\u001b[32;49mpip install --upgrade pip\u001b[0m\n"
     ]
    },
    {
     "data": {
      "text/plain": [
       "<owslib.feature.wfs100.WebFeatureService_1_0_0 at 0x117f60450>"
      ]
     },
     "execution_count": 3,
     "metadata": {},
     "output_type": "execute_result"
    }
   ],
   "source": [
    "!pip install owslib geopandas matplotlib ipyleaflet\n",
    "from owslib.wfs import WebFeatureService\n",
    "wfs = WebFeatureService(url='https://ows.emodnet-bathymetry.eu/wfs')\n",
    "wfs"
   ]
  },
  {
   "cell_type": "code",
   "execution_count": 4,
   "metadata": {},
   "outputs": [
    {
     "data": {
      "text/plain": [
       "'1.0.0'"
      ]
     },
     "execution_count": 4,
     "metadata": {},
     "output_type": "execute_result"
    }
   ],
   "source": [
    "[operation.name for operation in wfs.operations]\n",
    "wfs.version"
   ]
  },
  {
   "cell_type": "code",
   "execution_count": 5,
   "metadata": {},
   "outputs": [
    {
     "data": {
      "text/plain": [
       "['emodnet:download_tiles',\n",
       " 'emodnet:contours',\n",
       " 'emodnet:hr_bathymetry_area',\n",
       " 'emodnet:quality_index',\n",
       " 'world:sea_names',\n",
       " 'emodnet:source_references',\n",
       " 'gebco:undersea_features']"
      ]
     },
     "execution_count": 5,
     "metadata": {},
     "output_type": "execute_result"
    }
   ],
   "source": [
    "list(wfs.contents)"
   ]
  },
  {
   "cell_type": "code",
   "execution_count": 9,
   "metadata": {},
   "outputs": [
    {
     "ename": "ServiceException",
     "evalue": "Feature type :e unknown",
     "output_type": "error",
     "traceback": [
      "\u001b[0;31m---------------------------------------------------------------------------\u001b[0m",
      "\u001b[0;31mServiceException\u001b[0m                          Traceback (most recent call last)",
      "Cell \u001b[0;32mIn[9], line 2\u001b[0m\n\u001b[1;32m      1\u001b[0m wfs\u001b[38;5;241m.\u001b[39mget_schema(\u001b[38;5;124m'\u001b[39m\u001b[38;5;124memodnet:contours\u001b[39m\u001b[38;5;124m'\u001b[39m)\n\u001b[0;32m----> 2\u001b[0m response \u001b[38;5;241m=\u001b[39m \u001b[43mwfs\u001b[49m\u001b[38;5;241;43m.\u001b[39;49m\u001b[43mgetfeature\u001b[49m\u001b[43m(\u001b[49m\u001b[43mtypename\u001b[49m\u001b[38;5;241;43m=\u001b[39;49m\u001b[38;5;124;43m\"\u001b[39;49m\u001b[38;5;124;43memodnet:contours\u001b[39;49m\u001b[38;5;124;43m\"\u001b[39;49m\u001b[43m,\u001b[49m\u001b[43m \u001b[49m\u001b[43mbbox\u001b[49m\u001b[38;5;241;43m=\u001b[39;49m\u001b[43m(\u001b[49m\u001b[38;5;241;43m54.521\u001b[39;49m\u001b[43m,\u001b[49m\u001b[38;5;241;43m7.084\u001b[39;49m\u001b[43m,\u001b[49m\u001b[38;5;241;43m58.692\u001b[39;49m\u001b[43m,\u001b[49m\u001b[38;5;241;43m15.196\u001b[39;49m\u001b[43m)\u001b[49m\u001b[43m,\u001b[49m\u001b[43m \u001b[49m\u001b[43msrsname\u001b[49m\u001b[38;5;241;43m=\u001b[39;49m\u001b[38;5;124;43m'\u001b[39;49m\u001b[38;5;124;43murn:x-ogc:def:crs:EPSG:4326\u001b[39;49m\u001b[38;5;124;43m'\u001b[39;49m\u001b[43m)\u001b[49m\n",
      "File \u001b[0;32m~/repos/Iliad/data_access_api/.venv/lib/python3.11/site-packages/owslib/feature/wfs100.py:327\u001b[0m, in \u001b[0;36mWebFeatureService_1_0_0.getfeature\u001b[0;34m(self, typename, filter, bbox, featureid, featureversion, propertyname, maxfeatures, srsname, outputFormat, method, startindex)\u001b[0m\n\u001b[1;32m    325\u001b[0m         \u001b[38;5;28;01mif\u001b[39;00m tree\u001b[38;5;241m.\u001b[39mtag \u001b[38;5;241m==\u001b[39m \u001b[38;5;124m\"\u001b[39m\u001b[38;5;124m{\u001b[39m\u001b[38;5;132;01m%s\u001b[39;00m\u001b[38;5;124m}ServiceExceptionReport\u001b[39m\u001b[38;5;124m\"\u001b[39m \u001b[38;5;241m%\u001b[39m OGC_NAMESPACE:\n\u001b[1;32m    326\u001b[0m             se \u001b[38;5;241m=\u001b[39m tree\u001b[38;5;241m.\u001b[39mfind(nspath(\u001b[38;5;124m\"\u001b[39m\u001b[38;5;124mServiceException\u001b[39m\u001b[38;5;124m\"\u001b[39m, OGC_NAMESPACE))\n\u001b[0;32m--> 327\u001b[0m             \u001b[38;5;28;01mraise\u001b[39;00m ServiceException(\u001b[38;5;28mstr\u001b[39m(se\u001b[38;5;241m.\u001b[39mtext)\u001b[38;5;241m.\u001b[39mstrip())\n\u001b[1;32m    328\u001b[0m         \u001b[38;5;28;01mreturn\u001b[39;00m BytesIO(data)\n\u001b[1;32m    329\u001b[0m \u001b[38;5;28;01melse\u001b[39;00m:\n",
      "\u001b[0;31mServiceException\u001b[0m: Feature type :e unknown"
     ]
    }
   ],
   "source": [
    "wfs.get_schema('emodnet:contours')\n",
    "response = wfs.getfeature(typename=\"emodnet:contours\", bbox=(54.521,7.084,58.692,15.196), srsname='urn:x-ogc:def:crs:EPSG:4326')"
   ]
  },
  {
   "cell_type": "code",
   "execution_count": 10,
   "metadata": {},
   "outputs": [
    {
     "ename": "ServiceException",
     "evalue": "Feature type :e unknown",
     "output_type": "error",
     "traceback": [
      "\u001b[0;31m---------------------------------------------------------------------------\u001b[0m",
      "\u001b[0;31mServiceException\u001b[0m                          Traceback (most recent call last)",
      "Cell \u001b[0;32mIn[10], line 1\u001b[0m\n\u001b[0;32m----> 1\u001b[0m response \u001b[38;5;241m=\u001b[39m \u001b[43mwfs\u001b[49m\u001b[38;5;241;43m.\u001b[39;49m\u001b[43mgetfeature\u001b[49m\u001b[43m(\u001b[49m\u001b[43mtypename\u001b[49m\u001b[38;5;241;43m=\u001b[39;49m\u001b[38;5;124;43m\"\u001b[39;49m\u001b[38;5;124;43memodnet:contours\u001b[39;49m\u001b[38;5;124;43m\"\u001b[39;49m\u001b[43m,\u001b[49m\u001b[43m \u001b[49m\u001b[43mbbox\u001b[49m\u001b[38;5;241;43m=\u001b[39;49m\u001b[43m(\u001b[49m\u001b[38;5;241;43m54.521\u001b[39;49m\u001b[43m,\u001b[49m\u001b[38;5;241;43m7.084\u001b[39;49m\u001b[43m,\u001b[49m\u001b[38;5;241;43m58.692\u001b[39;49m\u001b[43m,\u001b[49m\u001b[38;5;241;43m15.196\u001b[39;49m\u001b[43m)\u001b[49m\u001b[43m)\u001b[49m\n",
      "File \u001b[0;32m~/repos/Iliad/data_access_api/.venv/lib/python3.11/site-packages/owslib/feature/wfs100.py:327\u001b[0m, in \u001b[0;36mWebFeatureService_1_0_0.getfeature\u001b[0;34m(self, typename, filter, bbox, featureid, featureversion, propertyname, maxfeatures, srsname, outputFormat, method, startindex)\u001b[0m\n\u001b[1;32m    325\u001b[0m         \u001b[38;5;28;01mif\u001b[39;00m tree\u001b[38;5;241m.\u001b[39mtag \u001b[38;5;241m==\u001b[39m \u001b[38;5;124m\"\u001b[39m\u001b[38;5;124m{\u001b[39m\u001b[38;5;132;01m%s\u001b[39;00m\u001b[38;5;124m}ServiceExceptionReport\u001b[39m\u001b[38;5;124m\"\u001b[39m \u001b[38;5;241m%\u001b[39m OGC_NAMESPACE:\n\u001b[1;32m    326\u001b[0m             se \u001b[38;5;241m=\u001b[39m tree\u001b[38;5;241m.\u001b[39mfind(nspath(\u001b[38;5;124m\"\u001b[39m\u001b[38;5;124mServiceException\u001b[39m\u001b[38;5;124m\"\u001b[39m, OGC_NAMESPACE))\n\u001b[0;32m--> 327\u001b[0m             \u001b[38;5;28;01mraise\u001b[39;00m ServiceException(\u001b[38;5;28mstr\u001b[39m(se\u001b[38;5;241m.\u001b[39mtext)\u001b[38;5;241m.\u001b[39mstrip())\n\u001b[1;32m    328\u001b[0m         \u001b[38;5;28;01mreturn\u001b[39;00m BytesIO(data)\n\u001b[1;32m    329\u001b[0m \u001b[38;5;28;01melse\u001b[39;00m:\n",
      "\u001b[0;31mServiceException\u001b[0m: Feature type :e unknown"
     ]
    }
   ],
   "source": [
    "\n",
    "response = wfs.getfeature(typename=\"emodnet:contours\", bbox=(54.521,7.084,58.692,15.196))"
   ]
  },
  {
   "cell_type": "code",
   "execution_count": null,
   "metadata": {},
   "outputs": [],
   "source": [
    "out = open('~/Temp/quality_index.gml', 'wb')\n",
    "out.write(bytes(response.read(), 'UTF-8'))\n",
    "out.close()"
   ]
  },
  {
   "cell_type": "code",
   "execution_count": 11,
   "metadata": {},
   "outputs": [
    {
     "name": "stdout",
     "output_type": "stream",
     "text": [
      "Requirement already satisfied: geopandas in /Users/piotr/repos/Iliad/data_access_api/.venv/lib/python3.11/site-packages (1.1.1)\n",
      "Requirement already satisfied: numpy>=1.24 in /Users/piotr/repos/Iliad/data_access_api/.venv/lib/python3.11/site-packages (from geopandas) (2.1.1)\n",
      "Requirement already satisfied: pyogrio>=0.7.2 in /Users/piotr/repos/Iliad/data_access_api/.venv/lib/python3.11/site-packages (from geopandas) (0.11.0)\n",
      "Requirement already satisfied: packaging in /Users/piotr/repos/Iliad/data_access_api/.venv/lib/python3.11/site-packages (from geopandas) (24.1)\n",
      "Requirement already satisfied: pandas>=2.0.0 in /Users/piotr/repos/Iliad/data_access_api/.venv/lib/python3.11/site-packages (from geopandas) (2.2.3)\n",
      "Requirement already satisfied: pyproj>=3.5.0 in /Users/piotr/repos/Iliad/data_access_api/.venv/lib/python3.11/site-packages (from geopandas) (3.7.1)\n",
      "Requirement already satisfied: shapely>=2.0.0 in /Users/piotr/repos/Iliad/data_access_api/.venv/lib/python3.11/site-packages (from geopandas) (2.1.1)\n",
      "Requirement already satisfied: python-dateutil>=2.8.2 in /Users/piotr/repos/Iliad/data_access_api/.venv/lib/python3.11/site-packages (from pandas>=2.0.0->geopandas) (2.9.0.post0)\n",
      "Requirement already satisfied: pytz>=2020.1 in /Users/piotr/repos/Iliad/data_access_api/.venv/lib/python3.11/site-packages (from pandas>=2.0.0->geopandas) (2024.1)\n",
      "Requirement already satisfied: tzdata>=2022.7 in /Users/piotr/repos/Iliad/data_access_api/.venv/lib/python3.11/site-packages (from pandas>=2.0.0->geopandas) (2024.2)\n",
      "Requirement already satisfied: certifi in /Users/piotr/repos/Iliad/data_access_api/.venv/lib/python3.11/site-packages (from pyogrio>=0.7.2->geopandas) (2024.8.30)\n",
      "Requirement already satisfied: six>=1.5 in /Users/piotr/repos/Iliad/data_access_api/.venv/lib/python3.11/site-packages (from python-dateutil>=2.8.2->pandas>=2.0.0->geopandas) (1.16.0)\n",
      "\n",
      "\u001b[1m[\u001b[0m\u001b[34;49mnotice\u001b[0m\u001b[1;39;49m]\u001b[0m\u001b[39;49m A new release of pip is available: \u001b[0m\u001b[31;49m24.3.1\u001b[0m\u001b[39;49m -> \u001b[0m\u001b[32;49m25.2\u001b[0m\n",
      "\u001b[1m[\u001b[0m\u001b[34;49mnotice\u001b[0m\u001b[1;39;49m]\u001b[0m\u001b[39;49m To update, run: \u001b[0m\u001b[32;49mpip install --upgrade pip\u001b[0m\n"
     ]
    }
   ],
   "source": [
    "!pip install geopandas\n",
    "import geopandas as gpd\n",
    "df = gpd.read_file(\"~/Temp/dk_coast_quality.geojson\")"
   ]
  },
  {
   "cell_type": "code",
   "execution_count": 12,
   "metadata": {},
   "outputs": [
    {
     "name": "stdout",
     "output_type": "stream",
     "text": [
      "Collecting geoplot\n",
      "  Using cached geoplot-0.5.1-py3-none-any.whl.metadata (1.7 kB)\n",
      "Requirement already satisfied: matplotlib>=3.1.2 in /Users/piotr/repos/Iliad/data_access_api/.venv/lib/python3.11/site-packages (from geoplot) (3.9.2)\n",
      "Requirement already satisfied: seaborn in /Users/piotr/repos/Iliad/data_access_api/.venv/lib/python3.11/site-packages (from geoplot) (0.13.2)\n",
      "Requirement already satisfied: pandas in /Users/piotr/repos/Iliad/data_access_api/.venv/lib/python3.11/site-packages (from geoplot) (2.2.3)\n",
      "Requirement already satisfied: geopandas>=0.9.0 in /Users/piotr/repos/Iliad/data_access_api/.venv/lib/python3.11/site-packages (from geoplot) (1.1.1)\n",
      "Collecting cartopy (from geoplot)\n",
      "  Downloading cartopy-0.25.0-cp311-cp311-macosx_11_0_arm64.whl.metadata (6.1 kB)\n",
      "Collecting mapclassify>=2.1 (from geoplot)\n",
      "  Downloading mapclassify-2.10.0-py3-none-any.whl.metadata (3.1 kB)\n",
      "Collecting contextily>=1.0.0 (from geoplot)\n",
      "  Downloading contextily-1.6.2-py3-none-any.whl.metadata (2.9 kB)\n",
      "Requirement already satisfied: geopy in /Users/piotr/repos/Iliad/data_access_api/.venv/lib/python3.11/site-packages (from contextily>=1.0.0->geoplot) (2.4.1)\n",
      "Requirement already satisfied: mercantile in /Users/piotr/repos/Iliad/data_access_api/.venv/lib/python3.11/site-packages (from contextily>=1.0.0->geoplot) (1.2.1)\n",
      "Requirement already satisfied: pillow in /Users/piotr/repos/Iliad/data_access_api/.venv/lib/python3.11/site-packages (from contextily>=1.0.0->geoplot) (11.0.0)\n",
      "Requirement already satisfied: rasterio in /Users/piotr/repos/Iliad/data_access_api/.venv/lib/python3.11/site-packages (from contextily>=1.0.0->geoplot) (1.4.3)\n",
      "Requirement already satisfied: requests in /Users/piotr/repos/Iliad/data_access_api/.venv/lib/python3.11/site-packages (from contextily>=1.0.0->geoplot) (2.32.3)\n",
      "Requirement already satisfied: joblib in /Users/piotr/repos/Iliad/data_access_api/.venv/lib/python3.11/site-packages (from contextily>=1.0.0->geoplot) (1.5.1)\n",
      "Requirement already satisfied: xyzservices in /Users/piotr/repos/Iliad/data_access_api/.venv/lib/python3.11/site-packages (from contextily>=1.0.0->geoplot) (2024.9.0)\n",
      "Requirement already satisfied: numpy>=1.24 in /Users/piotr/repos/Iliad/data_access_api/.venv/lib/python3.11/site-packages (from geopandas>=0.9.0->geoplot) (2.1.1)\n",
      "Requirement already satisfied: pyogrio>=0.7.2 in /Users/piotr/repos/Iliad/data_access_api/.venv/lib/python3.11/site-packages (from geopandas>=0.9.0->geoplot) (0.11.0)\n",
      "Requirement already satisfied: packaging in /Users/piotr/repos/Iliad/data_access_api/.venv/lib/python3.11/site-packages (from geopandas>=0.9.0->geoplot) (24.1)\n",
      "Requirement already satisfied: pyproj>=3.5.0 in /Users/piotr/repos/Iliad/data_access_api/.venv/lib/python3.11/site-packages (from geopandas>=0.9.0->geoplot) (3.7.1)\n",
      "Requirement already satisfied: shapely>=2.0.0 in /Users/piotr/repos/Iliad/data_access_api/.venv/lib/python3.11/site-packages (from geopandas>=0.9.0->geoplot) (2.1.1)\n",
      "Requirement already satisfied: networkx>=3.2 in /Users/piotr/repos/Iliad/data_access_api/.venv/lib/python3.11/site-packages (from mapclassify>=2.1->geoplot) (3.4.2)\n",
      "Requirement already satisfied: scikit-learn>=1.4 in /Users/piotr/repos/Iliad/data_access_api/.venv/lib/python3.11/site-packages (from mapclassify>=2.1->geoplot) (1.6.1)\n",
      "Requirement already satisfied: scipy>=1.12 in /Users/piotr/repos/Iliad/data_access_api/.venv/lib/python3.11/site-packages (from mapclassify>=2.1->geoplot) (1.15.3)\n",
      "Requirement already satisfied: contourpy>=1.0.1 in /Users/piotr/repos/Iliad/data_access_api/.venv/lib/python3.11/site-packages (from matplotlib>=3.1.2->geoplot) (1.3.0)\n",
      "Requirement already satisfied: cycler>=0.10 in /Users/piotr/repos/Iliad/data_access_api/.venv/lib/python3.11/site-packages (from matplotlib>=3.1.2->geoplot) (0.12.1)\n",
      "Requirement already satisfied: fonttools>=4.22.0 in /Users/piotr/repos/Iliad/data_access_api/.venv/lib/python3.11/site-packages (from matplotlib>=3.1.2->geoplot) (4.54.1)\n",
      "Requirement already satisfied: kiwisolver>=1.3.1 in /Users/piotr/repos/Iliad/data_access_api/.venv/lib/python3.11/site-packages (from matplotlib>=3.1.2->geoplot) (1.4.7)\n",
      "Requirement already satisfied: pyparsing>=2.3.1 in /Users/piotr/repos/Iliad/data_access_api/.venv/lib/python3.11/site-packages (from matplotlib>=3.1.2->geoplot) (3.1.4)\n",
      "Requirement already satisfied: python-dateutil>=2.7 in /Users/piotr/repos/Iliad/data_access_api/.venv/lib/python3.11/site-packages (from matplotlib>=3.1.2->geoplot) (2.9.0.post0)\n",
      "Requirement already satisfied: pytz>=2020.1 in /Users/piotr/repos/Iliad/data_access_api/.venv/lib/python3.11/site-packages (from pandas->geoplot) (2024.1)\n",
      "Requirement already satisfied: tzdata>=2022.7 in /Users/piotr/repos/Iliad/data_access_api/.venv/lib/python3.11/site-packages (from pandas->geoplot) (2024.2)\n",
      "Collecting pyshp>=2.3 (from cartopy->geoplot)\n",
      "  Using cached pyshp-2.3.1-py2.py3-none-any.whl.metadata (55 kB)\n",
      "Requirement already satisfied: certifi in /Users/piotr/repos/Iliad/data_access_api/.venv/lib/python3.11/site-packages (from pyogrio>=0.7.2->geopandas>=0.9.0->geoplot) (2024.8.30)\n",
      "Requirement already satisfied: six>=1.5 in /Users/piotr/repos/Iliad/data_access_api/.venv/lib/python3.11/site-packages (from python-dateutil>=2.7->matplotlib>=3.1.2->geoplot) (1.16.0)\n",
      "Requirement already satisfied: threadpoolctl>=3.1.0 in /Users/piotr/repos/Iliad/data_access_api/.venv/lib/python3.11/site-packages (from scikit-learn>=1.4->mapclassify>=2.1->geoplot) (3.6.0)\n",
      "Requirement already satisfied: geographiclib<3,>=1.52 in /Users/piotr/repos/Iliad/data_access_api/.venv/lib/python3.11/site-packages (from geopy->contextily>=1.0.0->geoplot) (2.0)\n",
      "Requirement already satisfied: click>=3.0 in /Users/piotr/repos/Iliad/data_access_api/.venv/lib/python3.11/site-packages (from mercantile->contextily>=1.0.0->geoplot) (8.1.7)\n",
      "Requirement already satisfied: affine in /Users/piotr/repos/Iliad/data_access_api/.venv/lib/python3.11/site-packages (from rasterio->contextily>=1.0.0->geoplot) (2.4.0)\n",
      "Requirement already satisfied: attrs in /Users/piotr/repos/Iliad/data_access_api/.venv/lib/python3.11/site-packages (from rasterio->contextily>=1.0.0->geoplot) (24.2.0)\n",
      "Requirement already satisfied: cligj>=0.5 in /Users/piotr/repos/Iliad/data_access_api/.venv/lib/python3.11/site-packages (from rasterio->contextily>=1.0.0->geoplot) (0.7.2)\n",
      "Requirement already satisfied: click-plugins in /Users/piotr/repos/Iliad/data_access_api/.venv/lib/python3.11/site-packages (from rasterio->contextily>=1.0.0->geoplot) (1.1.1)\n",
      "Requirement already satisfied: charset-normalizer<4,>=2 in /Users/piotr/repos/Iliad/data_access_api/.venv/lib/python3.11/site-packages (from requests->contextily>=1.0.0->geoplot) (3.3.2)\n",
      "Requirement already satisfied: idna<4,>=2.5 in /Users/piotr/repos/Iliad/data_access_api/.venv/lib/python3.11/site-packages (from requests->contextily>=1.0.0->geoplot) (3.8)\n",
      "Requirement already satisfied: urllib3<3,>=1.21.1 in /Users/piotr/repos/Iliad/data_access_api/.venv/lib/python3.11/site-packages (from requests->contextily>=1.0.0->geoplot) (2.2.2)\n",
      "Using cached geoplot-0.5.1-py3-none-any.whl (28 kB)\n",
      "Downloading contextily-1.6.2-py3-none-any.whl (17 kB)\n",
      "Downloading mapclassify-2.10.0-py3-none-any.whl (882 kB)\n",
      "\u001b[2K   \u001b[90m━━━━━━━━━━━━━━━━━━━━━━━━━━━━━━━━━━━━━━━━\u001b[0m \u001b[32m882.2/882.2 kB\u001b[0m \u001b[31m8.6 MB/s\u001b[0m eta \u001b[36m0:00:00\u001b[0m\n",
      "\u001b[?25hDownloading cartopy-0.25.0-cp311-cp311-macosx_11_0_arm64.whl (11.0 MB)\n",
      "\u001b[2K   \u001b[90m━━━━━━━━━━━━━━━━━━━━━━━━━━━━━━━━━━━━━━━━\u001b[0m \u001b[32m11.0/11.0 MB\u001b[0m \u001b[31m11.4 MB/s\u001b[0m eta \u001b[36m0:00:00\u001b[0m \u001b[36m0:00:01\u001b[0m\n",
      "\u001b[?25hUsing cached pyshp-2.3.1-py2.py3-none-any.whl (46 kB)\n",
      "Installing collected packages: pyshp, mapclassify, contextily, cartopy, geoplot\n",
      "Successfully installed cartopy-0.25.0 contextily-1.6.2 geoplot-0.5.1 mapclassify-2.10.0 pyshp-2.3.1\n",
      "\n",
      "\u001b[1m[\u001b[0m\u001b[34;49mnotice\u001b[0m\u001b[1;39;49m]\u001b[0m\u001b[39;49m A new release of pip is available: \u001b[0m\u001b[31;49m24.3.1\u001b[0m\u001b[39;49m -> \u001b[0m\u001b[32;49m25.2\u001b[0m\n",
      "\u001b[1m[\u001b[0m\u001b[34;49mnotice\u001b[0m\u001b[1;39;49m]\u001b[0m\u001b[39;49m To update, run: \u001b[0m\u001b[32;49mpip install --upgrade pip\u001b[0m\n"
     ]
    },
    {
     "data": {
      "text/plain": [
       "<GeoAxes: >"
      ]
     },
     "execution_count": 12,
     "metadata": {},
     "output_type": "execute_result"
    },
    {
     "data": {
      "image/png": "[encoded data removed]",
      "text/plain": [
       "<Figure size 1200x800 with 1 Axes>"
      ]
     },
     "metadata": {},
     "output_type": "display_data"
    }
   ],
   "source": [
    "!pip install geoplot\n",
    "\n",
    "import geoplot\n",
    "import geoplot.crs as gcrs\n",
    "geoplot.polyplot(\n",
    "    df,\n",
    "    projection=gcrs.AlbersEqualArea(),\n",
    "    edgecolor='darkgrey',\n",
    "    facecolor='lightgrey',\n",
    "    linewidth=.3,\n",
    "    figsize=(12, 8)\n",
    ")"
   ]
  },
  {
   "cell_type": "code",
   "execution_count": 14,
   "metadata": {},
   "outputs": [
    {
     "name": "stdout",
     "output_type": "stream",
     "text": [
      "Available feature types: ['emodnet:download_tiles', 'emodnet:contours', 'emodnet:hr_bathymetry_area', 'emodnet:quality_index', 'world:sea_names', 'emodnet:source_references', 'gebco:undersea_features']\n"
     ]
    },
    {
     "ename": "ServiceException",
     "evalue": "Feature type :y unknown",
     "output_type": "error",
     "traceback": [
      "\u001b[0;31m---------------------------------------------------------------------------\u001b[0m",
      "\u001b[0;31mServiceException\u001b[0m                          Traceback (most recent call last)",
      "Cell \u001b[0;32mIn[14], line 23\u001b[0m\n\u001b[1;32m     20\u001b[0m bbox \u001b[38;5;241m=\u001b[39m (\u001b[38;5;241m8.0\u001b[39m, \u001b[38;5;241m54.5\u001b[39m, \u001b[38;5;241m15.0\u001b[39m, \u001b[38;5;241m57.8\u001b[39m)\n\u001b[1;32m     22\u001b[0m \u001b[38;5;66;03m# Perform a GetFeature request with the BBOX filter\u001b[39;00m\n\u001b[0;32m---> 23\u001b[0m response \u001b[38;5;241m=\u001b[39m \u001b[43mwfs\u001b[49m\u001b[38;5;241;43m.\u001b[39;49m\u001b[43mgetfeature\u001b[49m\u001b[43m(\u001b[49m\n\u001b[1;32m     24\u001b[0m \u001b[43m    \u001b[49m\u001b[43mtypename\u001b[49m\u001b[38;5;241;43m=\u001b[39;49m\u001b[43mlayer\u001b[49m\u001b[43m,\u001b[49m\n\u001b[1;32m     25\u001b[0m \u001b[43m    \u001b[49m\u001b[43mbbox\u001b[49m\u001b[38;5;241;43m=\u001b[39;49m\u001b[43mbbox\u001b[49m\u001b[43m,\u001b[49m\n\u001b[1;32m     26\u001b[0m \u001b[43m    \u001b[49m\u001b[43moutputFormat\u001b[49m\u001b[38;5;241;43m=\u001b[39;49m\u001b[38;5;124;43m\"\u001b[39;49m\u001b[38;5;124;43mjson\u001b[39;49m\u001b[38;5;124;43m\"\u001b[39;49m\u001b[43m  \u001b[49m\u001b[38;5;66;43;03m# You can specify the format (e.g., \"json\", \"gml\", etc.)\u001b[39;49;00m\n\u001b[1;32m     27\u001b[0m \u001b[43m)\u001b[49m\n\u001b[1;32m     29\u001b[0m \u001b[38;5;66;03m# Read the response data (assumes JSON output)\u001b[39;00m\n\u001b[1;32m     30\u001b[0m features \u001b[38;5;241m=\u001b[39m response\u001b[38;5;241m.\u001b[39mread()\n",
      "File \u001b[0;32m~/repos/Iliad/data_access_api/.venv/lib/python3.11/site-packages/owslib/feature/wfs100.py:327\u001b[0m, in \u001b[0;36mWebFeatureService_1_0_0.getfeature\u001b[0;34m(self, typename, filter, bbox, featureid, featureversion, propertyname, maxfeatures, srsname, outputFormat, method, startindex)\u001b[0m\n\u001b[1;32m    325\u001b[0m         \u001b[38;5;28;01mif\u001b[39;00m tree\u001b[38;5;241m.\u001b[39mtag \u001b[38;5;241m==\u001b[39m \u001b[38;5;124m\"\u001b[39m\u001b[38;5;124m{\u001b[39m\u001b[38;5;132;01m%s\u001b[39;00m\u001b[38;5;124m}ServiceExceptionReport\u001b[39m\u001b[38;5;124m\"\u001b[39m \u001b[38;5;241m%\u001b[39m OGC_NAMESPACE:\n\u001b[1;32m    326\u001b[0m             se \u001b[38;5;241m=\u001b[39m tree\u001b[38;5;241m.\u001b[39mfind(nspath(\u001b[38;5;124m\"\u001b[39m\u001b[38;5;124mServiceException\u001b[39m\u001b[38;5;124m\"\u001b[39m, OGC_NAMESPACE))\n\u001b[0;32m--> 327\u001b[0m             \u001b[38;5;28;01mraise\u001b[39;00m ServiceException(\u001b[38;5;28mstr\u001b[39m(se\u001b[38;5;241m.\u001b[39mtext)\u001b[38;5;241m.\u001b[39mstrip())\n\u001b[1;32m    328\u001b[0m         \u001b[38;5;28;01mreturn\u001b[39;00m BytesIO(data)\n\u001b[1;32m    329\u001b[0m \u001b[38;5;28;01melse\u001b[39;00m:\n",
      "\u001b[0;31mServiceException\u001b[0m: Feature type :y unknown"
     ]
    }
   ],
   "source": [
    "from owslib.wfs import WebFeatureService\n",
    "import geopandas as gpd\n",
    "from shapely.geometry import shape\n",
    "from ipyleaflet import Map, GeoData, basemaps\n",
    "\n",
    "# Define the WFS service URL\n",
    "wfs_url = \"https://ows.emodnet-bathymetry.eu/wfs\"\n",
    "\n",
    "# Initialize the WFS client for version 1.0.0\n",
    "wfs = WebFeatureService(url=wfs_url, version=\"1.0.0\")\n",
    "\n",
    "# List available feature types\n",
    "feature_types = list(wfs.contents)\n",
    "print(\"Available feature types:\", feature_types)\n",
    "\n",
    "# Define the layer (feature type) you want to query\n",
    "layer = \"your-layer-name-here\"\n",
    "\n",
    "# Define the BBOX covering Denmark (approximate coordinates: minx, miny, maxx, maxy)\n",
    "bbox = (8.0, 54.5, 15.0, 57.8)\n",
    "\n",
    "# Perform a GetFeature request with the BBOX filter\n",
    "response = wfs.getfeature(\n",
    "    typename=layer,\n",
    "    bbox=bbox,\n",
    "    outputFormat=\"json\"  # You can specify the format (e.g., \"json\", \"gml\", etc.)\n",
    ")\n",
    "\n",
    "# Read the response data (assumes JSON output)\n",
    "features = response.read()\n",
    "\n",
    "# Convert the response to a GeoDataFrame\n",
    "features_dict = json.loads(features)\n",
    "features_gdf = gpd.GeoDataFrame.from_features(features_dict['features'])\n",
    "\n",
    "# Check the coordinate reference system (CRS)\n",
    "if features_gdf.crs is None:\n",
    "    features_gdf.set_crs(epsg=4326, inplace=True)  # Assuming WGS 84 (EPSG:4326)\n",
    "\n",
    "# Display the first few rows of the GeoDataFrame\n",
    "print(features_gdf.head())\n",
    "\n",
    "# Visualize the data on a map using ipyleaflet\n",
    "center = [55.6761, 12.5683]  # Center map on Copenhagen, Denmark\n",
    "\n",
    "m = Map(center=center, zoom=6, basemap=basemaps.OpenStreetMap.Mapnik)\n",
    "\n",
    "geo_data = GeoData(geo_dataframe=features_gdf, style={'color': 'blue', 'opacity': 1, 'weight': 1.5},\n",
    "                   hover_style={'color': 'red', 'fillOpacity': 0.7},\n",
    "                   name=\"WFS Layer\")\n",
    "\n",
    "m.add_layer(geo_data)\n",
    "m\n"
   ]
  }
 ],
 "metadata": {
  "kernelspec": {
   "display_name": ".venv",
   "language": "python",
   "name": "python3"
  },
  "language_info": {
   "codemirror_mode": {
    "name": "ipython",
    "version": 3
   },
   "file_extension": ".py",
   "mimetype": "text/x-python",
   "name": "python",
   "nbconvert_exporter": "python",
   "pygments_lexer": "ipython3",
   "version": "3.11.5"
  }
 },
 "nbformat": 4,
 "nbformat_minor": 2
}
