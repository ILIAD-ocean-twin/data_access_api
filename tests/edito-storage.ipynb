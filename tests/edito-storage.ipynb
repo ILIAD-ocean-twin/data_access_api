{
 "cells": [
  {
   "cell_type": "code",
   "execution_count": null,
   "id": "fbad2e1a",
   "metadata": {},
   "outputs": [
    {
     "name": "stdout",
     "output_type": "stream",
     "text": [
      "['oidc-pzaborowski/example-config-edr-timeseries.yml', 'oidc-pzaborowski/pygeoapi']\n"
     ]
    }
   ],
   "source": [
    "#!pip install s3fs\n",
    "import s3fs\n",
    "\n",
    "storage_options = {\n",
    "    \"client_kwargs\": {\n",
    "        \"endpoint_url\": \"https://minio.dive.edito.eu\",\n",
    "        \"region_name\": \"waw3-1\"\n",
    "    },\n",
    "    \"key\": \"UWQMZG9P887FU9EXXPMQ\",\n",
    "    \"secret\": \"UTWQbULBL9PLAvVCgUk1fWthRHhuZDxpARY9ROYD\",\n",
    "    \"token\": \"eyJhbGciOiJIUzUxMiIsInR5cCI6IkpXVCJ9.eyJhY2Nlc3NLZXkiOiJVV1FNWkc5UDg4N0ZVOUVYWFBNUSIsImFjciI6IjAiLCJhbGxvd2VkLW9yaWdpbnMiOlsiKiJdLCJhdWQiOlsibWluaW8iLCJhY2NvdW50Il0sImF1dGhfdGltZSI6MTc1MTg3ODU0MywiYXpwIjoib255eGlhLW1pbmlvIiwiZW1haWwiOiJwemFib3Jvd3NraUBvZ2Mub3JnIiwiZW1haWxfdmVyaWZpZWQiOnRydWUsImV4cCI6MTc1MjAwNTgzOCwiZmFtaWx5X25hbWUiOiJaYWJvcm93c2tpIiwiZ2l2ZW5fbmFtZSI6IlBpb3RyIiwiZ3JvdXBzIjpbIkVESVRPX1VTRVIiXSwiaWF0IjoxNzUxOTE5NDM4LCJpc3MiOiJodHRwczovL2F1dGguZGl2ZS5lZGl0by5ldS9hdXRoL3JlYWxtcy9kYXRhbGFiIiwianRpIjoiYTE4YThhOGItNzFhMi00MDIwLWJkMTYtZjEzN2YxNTg0YmVlIiwibmFtZSI6IlBpb3RyIFphYm9yb3dza2kiLCJwb2xpY3kiOiJzdHNvbmx5IiwicHJlZmVycmVkX3VzZXJuYW1lIjoicHphYm9yb3dza2kiLCJyZWFsbV9hY2Nlc3MiOnsicm9sZXMiOlsiZGVmYXVsdC1yb2xlcy1kYXRhbGFiIiwib2ZmbGluZV9hY2Nlc3MiLCJ1bWFfYXV0aG9yaXphdGlvbiJdfSwicmVzb3VyY2VfYWNjZXNzIjp7ImFjY291bnQiOnsicm9sZXMiOlsibWFuYWdlLWFjY291bnQiLCJtYW5hZ2UtYWNjb3VudC1saW5rcyIsInZpZXctcHJvZmlsZSJdfSwibWluaW8iOnsicm9sZXMiOlsic3Rzb25seSJdfX0sInNjb3BlIjoib3BlbmlkIGVtYWlsIHByb2ZpbGUiLCJzZXNzaW9uX3N0YXRlIjoiMzkxZmU4YTYtYjUxOS00NGM4LTk1N2UtMGYzOTdjMGMzYWMzIiwic2lkIjoiMzkxZmU4YTYtYjUxOS00NGM4LTk1N2UtMGYzOTdjMGMzYWMzIiwic3ViIjoiNjNmMTcxYjktNTJiYS00NWZlLTkwYjMtN2QxNzZiNzdmOTA0IiwidHlwIjoiQmVhcmVyIn0.F8uQYW_0fCjqFzqWl3Vx-uaPThfI85DEbeb86E7UnhbgXhnmsD3ICkjLc8EOk7JlnfIK64odqUQ-c7Y_cVhSWw\"  # truncated for clarity\n",
    "}\n",
    "#do the same but \n",
    "fs = s3fs.S3FileSystem(**storage_options)\n",
    "\n",
    "\n",
    "# List contents of a bucket\n",
    "bucket_name = \"oidc-pzaborowski\"\n",
    "print(fs.ls(bucket_name))\n"
   ]
  },
  {
   "cell_type": "code",
   "execution_count": 8,
   "id": "9e5c7df6",
   "metadata": {},
   "outputs": [
    {
     "name": "stdout",
     "output_type": "stream",
     "text": [
      "Requirement already satisfied: polars in /Users/piotr/repos/Iliad/data_access_api/.venv/lib/python3.11/site-packages (1.31.0)\n",
      "\n",
      "\u001b[1m[\u001b[0m\u001b[34;49mnotice\u001b[0m\u001b[1;39;49m]\u001b[0m\u001b[39;49m A new release of pip is available: \u001b[0m\u001b[31;49m24.3.1\u001b[0m\u001b[39;49m -> \u001b[0m\u001b[32;49m25.1.1\u001b[0m\n",
      "\u001b[1m[\u001b[0m\u001b[34;49mnotice\u001b[0m\u001b[1;39;49m]\u001b[0m\u001b[39;49m To update, run: \u001b[0m\u001b[32;49mpip install --upgrade pip\u001b[0m\n"
     ]
    },
    {
     "ename": "ComputeError",
     "evalue": "Generic S3 error: Error performing list request: Error performing GET https://minio.dive.edito.eu/bucket?&list-type=2 in 103.725041ms - Server returned non-2xx status code: 403 Forbidden: <?xml version=\"1.0\" encoding=\"UTF-8\"?>\n<Error><Code>AccessDenied</Code><Message>Access Denied.</Message><BucketName>bucket</BucketName><Resource>/bucket</Resource><RequestId>18501930B959B0FB</RequestId><HostId>b34fd21a30fc19a36c808e44068c4df258c0e378fa000baf4830fc9c8fa562d8</HostId></Error>",
     "output_type": "error",
     "traceback": [
      "\u001b[0;31m---------------------------------------------------------------------------\u001b[0m",
      "\u001b[0;31mComputeError\u001b[0m                              Traceback (most recent call last)",
      "Cell \u001b[0;32mIn[8], line 13\u001b[0m\n\u001b[1;32m      5\u001b[0m storage_options \u001b[38;5;241m=\u001b[39m {\n\u001b[1;32m      6\u001b[0m     \u001b[38;5;124m\"\u001b[39m\u001b[38;5;124maws_endpoint\u001b[39m\u001b[38;5;124m\"\u001b[39m:  \u001b[38;5;124m'\u001b[39m\u001b[38;5;124mhttps://\u001b[39m\u001b[38;5;124m'\u001b[39m\u001b[38;5;241m+\u001b[39m\u001b[38;5;124m'\u001b[39m\u001b[38;5;124mminio.dive.edito.eu\u001b[39m\u001b[38;5;124m'\u001b[39m,\n\u001b[1;32m      7\u001b[0m     \u001b[38;5;124m\"\u001b[39m\u001b[38;5;124maws_access_key_id\u001b[39m\u001b[38;5;124m\"\u001b[39m: \u001b[38;5;124m'\u001b[39m\u001b[38;5;124mUWQMZG9P887FU9EXXPMQ\u001b[39m\u001b[38;5;124m'\u001b[39m, \n\u001b[0;32m   (...)\u001b[0m\n\u001b[1;32m     10\u001b[0m     \u001b[38;5;124m\"\u001b[39m\u001b[38;5;124maws_token\u001b[39m\u001b[38;5;124m\"\u001b[39m: \u001b[38;5;124m'\u001b[39m\u001b[38;5;124meyJhbGciOiJIUzUxMiIsInR5cCI6IkpXVCJ9.eyJhY2Nlc3NLZXkiOiJVV1FNWkc5UDg4N0ZVOUVYWFBNUSIsImFjciI6IjAiLCJhbGxvd2VkLW9yaWdpbnMiOlsiKiJdLCJhdWQiOlsibWluaW8iLCJhY2NvdW50Il0sImF1dGhfdGltZSI6MTc1MTg3ODU0MywiYXpwIjoib255eGlhLW1pbmlvIiwiZW1haWwiOiJwemFib3Jvd3NraUBvZ2Mub3JnIiwiZW1haWxfdmVyaWZpZWQiOnRydWUsImV4cCI6MTc1MjAwNTgzOCwiZmFtaWx5X25hbWUiOiJaYWJvcm93c2tpIiwiZ2l2ZW5fbmFtZSI6IlBpb3RyIiwiZ3JvdXBzIjpbIkVESVRPX1VTRVIiXSwiaWF0IjoxNzUxOTE5NDM4LCJpc3MiOiJodHRwczovL2F1dGguZGl2ZS5lZGl0by5ldS9hdXRoL3JlYWxtcy9kYXRhbGFiIiwianRpIjoiYTE4YThhOGItNzFhMi00MDIwLWJkMTYtZjEzN2YxNTg0YmVlIiwibmFtZSI6IlBpb3RyIFphYm9yb3dza2kiLCJwb2xpY3kiOiJzdHNvbmx5IiwicHJlZmVycmVkX3VzZXJuYW1lIjoicHphYm9yb3dza2kiLCJyZWFsbV9hY2Nlc3MiOnsicm9sZXMiOlsiZGVmYXVsdC1yb2xlcy1kYXRhbGFiIiwib2ZmbGluZV9hY2Nlc3MiLCJ1bWFfYXV0aG9yaXphdGlvbiJdfSwicmVzb3VyY2VfYWNjZXNzIjp7ImFjY291bnQiOnsicm9sZXMiOlsibWFuYWdlLWFjY291bnQiLCJtYW5hZ2UtYWNjb3VudC1saW5rcyIsInZpZXctcHJvZmlsZSJdfSwibWluaW8iOnsicm9sZXMiOlsic3Rzb25seSJdfX0sInNjb3BlIjoib3BlbmlkIGVtYWlsIHByb2ZpbGUiLCJzZXNzaW9uX3N0YXRlIjoiMzkxZmU4YTYtYjUxOS00NGM4LTk1N2UtMGYzOTdjMGMzYWMzIiwic2lkIjoiMzkxZmU4YTYtYjUxOS00NGM4LTk1N2UtMGYzOTdjMGMzYWMzIiwic3ViIjoiNjNmMTcxYjktNTJiYS00NWZlLTkwYjMtN2QxNzZiNzdmOTA0IiwidHlwIjoiQmVhcmVyIn0.F8uQYW_0fCjqFzqWl3Vx-uaPThfI85DEbeb86E7UnhbgXhnmsD3ICkjLc8EOk7JlnfIK64odqUQ-c7Y_cVhSWw\u001b[39m\u001b[38;5;124m'\u001b[39m\n\u001b[1;32m     11\u001b[0m   }\n\u001b[1;32m     12\u001b[0m df \u001b[38;5;241m=\u001b[39m pl\u001b[38;5;241m.\u001b[39mscan_parquet(source \u001b[38;5;241m=\u001b[39m \u001b[38;5;124m\"\u001b[39m\u001b[38;5;124ms3://bucket/*\u001b[39m\u001b[38;5;124m\"\u001b[39m, storage_options\u001b[38;5;241m=\u001b[39mstorage_options)\n\u001b[0;32m---> 13\u001b[0m \u001b[38;5;28;43mprint\u001b[39;49m\u001b[43m(\u001b[49m\u001b[43mdf\u001b[49m\u001b[43m)\u001b[49m\n",
      "File \u001b[0;32m~/repos/Iliad/data_access_api/.venv/lib/python3.11/site-packages/polars/lazyframe/frame.py:767\u001b[0m, in \u001b[0;36mLazyFrame.__str__\u001b[0;34m(self)\u001b[0m\n\u001b[1;32m    763\u001b[0m     \u001b[38;5;28;01mdef\u001b[39;00m \u001b[38;5;21m__str__\u001b[39m(\u001b[38;5;28mself\u001b[39m) \u001b[38;5;241m-\u001b[39m\u001b[38;5;241m>\u001b[39m \u001b[38;5;28mstr\u001b[39m:\n\u001b[1;32m    764\u001b[0m         \u001b[38;5;28;01mreturn\u001b[39;00m \u001b[38;5;124mf\u001b[39m\u001b[38;5;124m\"\"\"\u001b[39m\u001b[38;5;130;01m\\\u001b[39;00m\n\u001b[1;32m    765\u001b[0m \u001b[38;5;124mnaive plan: (run LazyFrame.explain(optimized=True) to see the optimized plan)\u001b[39m\n\u001b[1;32m    766\u001b[0m \n\u001b[0;32m--> 767\u001b[0m \u001b[38;5;132;01m{\u001b[39;00m\u001b[38;5;28;43mself\u001b[39;49m\u001b[38;5;241;43m.\u001b[39;49m\u001b[43mexplain\u001b[49m\u001b[43m(\u001b[49m\u001b[43moptimized\u001b[49m\u001b[38;5;241;43m=\u001b[39;49m\u001b[38;5;28;43;01mFalse\u001b[39;49;00m\u001b[43m)\u001b[49m\u001b[38;5;132;01m}\u001b[39;00m\u001b[38;5;130;01m\\\u001b[39;00m\n\u001b[1;32m    768\u001b[0m \u001b[38;5;124m\"\"\"\u001b[39m\n",
      "File \u001b[0;32m~/repos/Iliad/data_access_api/.venv/lib/python3.11/site-packages/polars/_utils/deprecation.py:97\u001b[0m, in \u001b[0;36mdeprecate_streaming_parameter.<locals>.decorate.<locals>.wrapper\u001b[0;34m(*args, **kwargs)\u001b[0m\n\u001b[1;32m     93\u001b[0m         kwargs[\u001b[38;5;124m\"\u001b[39m\u001b[38;5;124mengine\u001b[39m\u001b[38;5;124m\"\u001b[39m] \u001b[38;5;241m=\u001b[39m \u001b[38;5;124m\"\u001b[39m\u001b[38;5;124min-memory\u001b[39m\u001b[38;5;124m\"\u001b[39m\n\u001b[1;32m     95\u001b[0m     \u001b[38;5;28;01mdel\u001b[39;00m kwargs[\u001b[38;5;124m\"\u001b[39m\u001b[38;5;124mstreaming\u001b[39m\u001b[38;5;124m\"\u001b[39m]\n\u001b[0;32m---> 97\u001b[0m \u001b[38;5;28;01mreturn\u001b[39;00m \u001b[43mfunction\u001b[49m\u001b[43m(\u001b[49m\u001b[38;5;241;43m*\u001b[39;49m\u001b[43margs\u001b[49m\u001b[43m,\u001b[49m\u001b[43m \u001b[49m\u001b[38;5;241;43m*\u001b[39;49m\u001b[38;5;241;43m*\u001b[39;49m\u001b[43mkwargs\u001b[49m\u001b[43m)\u001b[49m\n",
      "File \u001b[0;32m~/repos/Iliad/data_access_api/.venv/lib/python3.11/site-packages/polars/lazyframe/opt_flags.py:330\u001b[0m, in \u001b[0;36mforward_old_opt_flags.<locals>.decorate.<locals>.wrapper\u001b[0;34m(*args, **kwargs)\u001b[0m\n\u001b[1;32m    327\u001b[0m         optflags \u001b[38;5;241m=\u001b[39m cb(optflags, kwargs\u001b[38;5;241m.\u001b[39mpop(key))  \u001b[38;5;66;03m# type: ignore[no-untyped-call,unused-ignore]\u001b[39;00m\n\u001b[1;32m    329\u001b[0m kwargs[\u001b[38;5;124m\"\u001b[39m\u001b[38;5;124moptimizations\u001b[39m\u001b[38;5;124m\"\u001b[39m] \u001b[38;5;241m=\u001b[39m optflags\n\u001b[0;32m--> 330\u001b[0m \u001b[38;5;28;01mreturn\u001b[39;00m \u001b[43mfunction\u001b[49m\u001b[43m(\u001b[49m\u001b[38;5;241;43m*\u001b[39;49m\u001b[43margs\u001b[49m\u001b[43m,\u001b[49m\u001b[43m \u001b[49m\u001b[38;5;241;43m*\u001b[39;49m\u001b[38;5;241;43m*\u001b[39;49m\u001b[43mkwargs\u001b[49m\u001b[43m)\u001b[49m\n",
      "File \u001b[0;32m~/repos/Iliad/data_access_api/.venv/lib/python3.11/site-packages/polars/lazyframe/frame.py:1301\u001b[0m, in \u001b[0;36mLazyFrame.explain\u001b[0;34m(self, format, optimized, type_coercion, predicate_pushdown, projection_pushdown, simplify_expression, slice_pushdown, comm_subplan_elim, comm_subexpr_elim, cluster_with_columns, collapse_joins, streaming, engine, tree_format, optimizations)\u001b[0m\n\u001b[1;32m   1299\u001b[0m     \u001b[38;5;28;01mreturn\u001b[39;00m \u001b[38;5;28mself\u001b[39m\u001b[38;5;241m.\u001b[39m_ldf\u001b[38;5;241m.\u001b[39mdescribe_plan_tree()\n\u001b[1;32m   1300\u001b[0m \u001b[38;5;28;01melse\u001b[39;00m:\n\u001b[0;32m-> 1301\u001b[0m     \u001b[38;5;28;01mreturn\u001b[39;00m \u001b[38;5;28;43mself\u001b[39;49m\u001b[38;5;241;43m.\u001b[39;49m\u001b[43m_ldf\u001b[49m\u001b[38;5;241;43m.\u001b[39;49m\u001b[43mdescribe_plan\u001b[49m\u001b[43m(\u001b[49m\u001b[43m)\u001b[49m\n",
      "\u001b[0;31mComputeError\u001b[0m: Generic S3 error: Error performing list request: Error performing GET https://minio.dive.edito.eu/bucket?&list-type=2 in 103.725041ms - Server returned non-2xx status code: 403 Forbidden: <?xml version=\"1.0\" encoding=\"UTF-8\"?>\n<Error><Code>AccessDenied</Code><Message>Access Denied.</Message><BucketName>bucket</BucketName><Resource>/bucket</Resource><RequestId>18501930B959B0FB</RequestId><HostId>b34fd21a30fc19a36c808e44068c4df258c0e378fa000baf4830fc9c8fa562d8</HostId></Error>"
     ]
    }
   ],
   "source": [
    "!pip install polars\n",
    "import polars as pl\n",
    "\n",
    "\n",
    "storage_options = {\n",
    "    \"aws_endpoint\":  'https://'+'minio.dive.edito.eu',\n",
    "    \"aws_access_key_id\": 'UWQMZG9P887FU9EXXPMQ', \n",
    "    \"aws_secret_access_key\": 'UTWQbULBL9PLAvVCgUk1fWthRHhuZDxpARY9ROYD', \n",
    "    \"aws_region\": 'waw3-1',\n",
    "    \"aws_token\": 'eyJhbGciOiJIUzUxMiIsInR5cCI6IkpXVCJ9.eyJhY2Nlc3NLZXkiOiJVV1FNWkc5UDg4N0ZVOUVYWFBNUSIsImFjciI6IjAiLCJhbGxvd2VkLW9yaWdpbnMiOlsiKiJdLCJhdWQiOlsibWluaW8iLCJhY2NvdW50Il0sImF1dGhfdGltZSI6MTc1MTg3ODU0MywiYXpwIjoib255eGlhLW1pbmlvIiwiZW1haWwiOiJwemFib3Jvd3NraUBvZ2Mub3JnIiwiZW1haWxfdmVyaWZpZWQiOnRydWUsImV4cCI6MTc1MjAwNTgzOCwiZmFtaWx5X25hbWUiOiJaYWJvcm93c2tpIiwiZ2l2ZW5fbmFtZSI6IlBpb3RyIiwiZ3JvdXBzIjpbIkVESVRPX1VTRVIiXSwiaWF0IjoxNzUxOTE5NDM4LCJpc3MiOiJodHRwczovL2F1dGguZGl2ZS5lZGl0by5ldS9hdXRoL3JlYWxtcy9kYXRhbGFiIiwianRpIjoiYTE4YThhOGItNzFhMi00MDIwLWJkMTYtZjEzN2YxNTg0YmVlIiwibmFtZSI6IlBpb3RyIFphYm9yb3dza2kiLCJwb2xpY3kiOiJzdHNvbmx5IiwicHJlZmVycmVkX3VzZXJuYW1lIjoicHphYm9yb3dza2kiLCJyZWFsbV9hY2Nlc3MiOnsicm9sZXMiOlsiZGVmYXVsdC1yb2xlcy1kYXRhbGFiIiwib2ZmbGluZV9hY2Nlc3MiLCJ1bWFfYXV0aG9yaXphdGlvbiJdfSwicmVzb3VyY2VfYWNjZXNzIjp7ImFjY291bnQiOnsicm9sZXMiOlsibWFuYWdlLWFjY291bnQiLCJtYW5hZ2UtYWNjb3VudC1saW5rcyIsInZpZXctcHJvZmlsZSJdfSwibWluaW8iOnsicm9sZXMiOlsic3Rzb25seSJdfX0sInNjb3BlIjoib3BlbmlkIGVtYWlsIHByb2ZpbGUiLCJzZXNzaW9uX3N0YXRlIjoiMzkxZmU4YTYtYjUxOS00NGM4LTk1N2UtMGYzOTdjMGMzYWMzIiwic2lkIjoiMzkxZmU4YTYtYjUxOS00NGM4LTk1N2UtMGYzOTdjMGMzYWMzIiwic3ViIjoiNjNmMTcxYjktNTJiYS00NWZlLTkwYjMtN2QxNzZiNzdmOTA0IiwidHlwIjoiQmVhcmVyIn0.F8uQYW_0fCjqFzqWl3Vx-uaPThfI85DEbeb86E7UnhbgXhnmsD3ICkjLc8EOk7JlnfIK64odqUQ-c7Y_cVhSWw'\n",
    "  }\n",
    "df = pl.scan_parquet(source = \"s3://bucket/*\", storage_options=storage_options)\n",
    "print(df)"
   ]
  }
 ],
 "metadata": {
  "kernelspec": {
   "display_name": ".venv",
   "language": "python",
   "name": "python3"
  },
  "language_info": {
   "codemirror_mode": {
    "name": "ipython",
    "version": 3
   },
   "file_extension": ".py",
   "mimetype": "text/x-python",
   "name": "python",
   "nbconvert_exporter": "python",
   "pygments_lexer": "ipython3",
   "version": "3.11.5"
  }
 },
 "nbformat": 4,
 "nbformat_minor": 5
}
